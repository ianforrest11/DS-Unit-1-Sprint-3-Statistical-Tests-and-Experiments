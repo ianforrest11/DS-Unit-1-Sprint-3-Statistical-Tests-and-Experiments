{
  "nbformat": 4,
  "nbformat_minor": 0,
  "metadata": {
    "kernelspec": {
      "display_name": "Python 3",
      "language": "python",
      "name": "python3"
    },
    "language_info": {
      "codemirror_mode": {
        "name": "ipython",
        "version": 3
      },
      "file_extension": ".py",
      "mimetype": "text/x-python",
      "name": "python",
      "nbconvert_exporter": "python",
      "pygments_lexer": "ipython3",
      "version": "3.7.3"
    },
    "colab": {
      "name": "LS_DS_131_Statistics_Probability_Assignment.ipynb",
      "version": "0.3.2",
      "provenance": [],
      "include_colab_link": true
    }
  },
  "cells": [
    {
      "cell_type": "markdown",
      "metadata": {
        "id": "view-in-github",
        "colab_type": "text"
      },
      "source": [
        "<a href=\"https://colab.research.google.com/github/ianforrest11/DS-Unit-1-Sprint-3-Statistical-Tests-and-Experiments/blob/master/module1-statistics-probability-and-inference/LS_DS_131_Statistics_Probability_Assignment.ipynb\" target=\"_parent\"><img src=\"https://colab.research.google.com/assets/colab-badge.svg\" alt=\"Open In Colab\"/></a>"
      ]
    },
    {
      "cell_type": "markdown",
      "metadata": {
        "id": "-uqGnqkiSY3p",
        "colab_type": "text"
      },
      "source": [
        "<img align=\"left\" src=\"https://lever-client-logos.s3.amazonaws.com/864372b1-534c-480e-acd5-9711f850815c-1524247202159.png\" width=200>\n",
        "<br></br>\n",
        "<br></br>\n",
        "\n",
        "## *Data Science Unit 1 Sprint 3 Assignment 1*\n",
        "\n",
        "# Apply the t-test to real data\n",
        "\n",
        "Your assignment is to determine which issues have \"statistically significant\" differences between political parties in this [1980s congressional voting data](https://archive.ics.uci.edu/ml/datasets/Congressional+Voting+Records). The data consists of 435 instances (one for each congressperson), a class (democrat or republican), and 16 binary attributes (yes or no for voting for or against certain issues). Be aware - there are missing values!\n",
        "\n",
        "Your goals:\n",
        "\n",
        "1. Load and clean the data (or determine the best method to drop observations when running tests)\n",
        "2. Using hypothesis testing, find an issue that democrats support more than republicans with p < 0.01\n",
        "3. Using hypothesis testing, find an issue that republicans support more than democrats with p < 0.01\n",
        "4. Using hypothesis testing, find an issue where the difference between republicans and democrats has p > 0.1 (i.e. there may not be much of a difference)\n",
        "\n",
        "Note that this data will involve *2 sample* t-tests, because you're comparing averages across two groups (republicans and democrats) rather than a single group against a null hypothesis.\n",
        "\n",
        "Stretch goals:\n",
        "\n",
        "1. Refactor your code into functions so it's easy to rerun with arbitrary variables\n",
        "2. Apply hypothesis testing to your personal project data (for the purposes of this notebook you can type a summary of the hypothesis you formed and tested)"
      ]
    },
    {
      "cell_type": "code",
      "metadata": {
        "id": "yhDy62XoSY3q",
        "colab_type": "code",
        "colab": {}
      },
      "source": [
        "### YOUR CODE STARTS HERE"
      ],
      "execution_count": 0,
      "outputs": []
    },
    {
      "cell_type": "code",
      "metadata": {
        "id": "ZvYXQ0ErTnI6",
        "colab_type": "code",
        "colab": {
          "resources": {
            "http://localhost:8080/nbextensions/google.colab/files.js": {
              "data": "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",
              "ok": true,
              "headers": [
                [
                  "content-type",
                  "application/javascript"
                ]
              ],
              "status": 200,
              "status_text": ""
            }
          },
          "base_uri": "https://localhost:8080/",
          "height": 110
        },
        "outputId": "613d3493-05a8-434d-b8a3-fe4f5939ae4f"
      },
      "source": [
        "# import file from UCI database\n",
        "\n",
        "from google.colab import files\n",
        "files.upload()"
      ],
      "execution_count": 2,
      "outputs": [
        {
          "output_type": "display_data",
          "data": {
            "text/html": [
              "\n",
              "     <input type=\"file\" id=\"files-3c63c2b9-a57d-4223-a171-a49c5d05673f\" name=\"files[]\" multiple disabled />\n",
              "     <output id=\"result-3c63c2b9-a57d-4223-a171-a49c5d05673f\">\n",
              "      Upload widget is only available when the cell has been executed in the\n",
              "      current browser session. Please rerun this cell to enable.\n",
              "      </output>\n",
              "      <script src=\"/nbextensions/google.colab/files.js\"></script> "
            ],
            "text/plain": [
              "<IPython.core.display.HTML object>"
            ]
          },
          "metadata": {
            "tags": []
          }
        },
        {
          "output_type": "stream",
          "text": [
            "Saving house-votes-84.data to house-votes-84.data\n"
          ],
          "name": "stdout"
        },
        {
          "output_type": "execute_result",
          "data": {
            "text/plain": [
              "{'house-votes-84.data': b'republican,n,y,n,y,y,y,n,n,n,y,?,y,y,y,n,y\\nrepublican,n,y,n,y,y,y,n,n,n,n,n,y,y,y,n,?\\ndemocrat,?,y,y,?,y,y,n,n,n,n,y,n,y,y,n,n\\ndemocrat,n,y,y,n,?,y,n,n,n,n,y,n,y,n,n,y\\ndemocrat,y,y,y,n,y,y,n,n,n,n,y,?,y,y,y,y\\ndemocrat,n,y,y,n,y,y,n,n,n,n,n,n,y,y,y,y\\ndemocrat,n,y,n,y,y,y,n,n,n,n,n,n,?,y,y,y\\nrepublican,n,y,n,y,y,y,n,n,n,n,n,n,y,y,?,y\\nrepublican,n,y,n,y,y,y,n,n,n,n,n,y,y,y,n,y\\ndemocrat,y,y,y,n,n,n,y,y,y,n,n,n,n,n,?,?\\nrepublican,n,y,n,y,y,n,n,n,n,n,?,?,y,y,n,n\\nrepublican,n,y,n,y,y,y,n,n,n,n,y,?,y,y,?,?\\ndemocrat,n,y,y,n,n,n,y,y,y,n,n,n,y,n,?,?\\ndemocrat,y,y,y,n,n,y,y,y,?,y,y,?,n,n,y,?\\nrepublican,n,y,n,y,y,y,n,n,n,n,n,y,?,?,n,?\\nrepublican,n,y,n,y,y,y,n,n,n,y,n,y,y,?,n,?\\ndemocrat,y,n,y,n,n,y,n,y,?,y,y,y,?,n,n,y\\ndemocrat,y,?,y,n,n,n,y,y,y,n,n,n,y,n,y,y\\nrepublican,n,y,n,y,y,y,n,n,n,n,n,?,y,y,n,n\\ndemocrat,y,y,y,n,n,n,y,y,y,n,y,n,n,n,y,y\\ndemocrat,y,y,y,n,n,?,y,y,n,n,y,n,n,n,y,y\\ndemocrat,y,y,y,n,n,n,y,y,y,n,n,n,?,?,y,y\\ndemocrat,y,?,y,n,n,n,y,y,y,n,n,?,n,n,y,y\\ndemocrat,y,y,y,n,n,n,y,y,y,n,n,n,n,n,y,y\\ndemocrat,y,n,y,n,n,n,y,y,y,n,n,n,n,n,y,?\\ndemocrat,y,n,y,n,n,n,y,y,y,y,n,n,n,n,y,y\\ndemocrat,y,n,y,n,n,n,y,y,y,n,y,n,n,n,y,y\\ndemocrat,y,y,y,n,n,n,y,y,y,n,y,n,n,n,y,y\\nrepublican,y,n,n,y,y,n,y,y,y,n,n,y,y,y,n,y\\ndemocrat,y,y,y,n,n,n,y,y,y,n,y,n,n,n,y,y\\nrepublican,n,y,n,y,y,y,n,n,n,n,n,y,y,y,n,n\\ndemocrat,y,y,y,n,n,n,y,y,y,n,y,n,n,n,y,?\\ndemocrat,y,y,y,n,n,n,y,y,y,y,n,n,y,n,y,y\\nrepublican,n,y,n,y,y,y,n,n,n,n,n,y,y,y,n,y\\ndemocrat,y,y,y,n,n,n,y,y,y,n,n,n,n,n,y,y\\nrepublican,n,y,n,y,y,y,n,n,n,n,n,y,y,y,n,n\\nrepublican,y,?,n,y,y,y,n,n,n,y,n,y,?,y,n,y\\nrepublican,y,y,n,y,y,y,n,n,n,n,n,n,y,y,n,y\\nrepublican,n,y,n,y,y,y,n,n,n,y,n,y,y,y,n,n\\ndemocrat,y,n,y,n,n,n,y,y,y,y,y,n,y,n,y,y\\ndemocrat,y,y,y,n,n,n,y,y,y,n,?,n,n,n,n,?\\ndemocrat,y,y,y,n,n,n,y,y,y,n,n,n,n,n,y,?\\ndemocrat,y,n,y,n,n,n,y,y,y,n,n,n,n,n,n,y\\ndemocrat,y,n,y,n,n,n,y,y,y,n,n,n,n,n,y,y\\ndemocrat,y,y,y,n,n,n,y,y,y,n,y,n,n,n,n,?\\ndemocrat,y,y,y,n,n,n,y,y,?,n,y,n,n,n,y,?\\ndemocrat,y,y,y,n,n,n,y,y,y,n,n,n,n,n,n,y\\ndemocrat,y,n,y,n,n,n,y,y,?,n,n,n,n,n,n,?\\ndemocrat,y,y,y,n,n,n,y,y,n,n,n,n,n,y,n,y\\nrepublican,n,?,n,y,y,y,n,n,n,n,n,y,y,y,n,n\\ndemocrat,y,y,y,n,n,n,y,y,y,n,y,n,n,n,y,y\\nrepublican,n,y,n,y,y,y,n,?,n,n,n,y,y,y,n,y\\ndemocrat,y,y,y,n,n,n,y,y,y,n,n,n,n,n,?,?\\nrepublican,y,y,n,y,y,y,n,n,n,y,n,y,y,y,n,n\\ndemocrat,y,y,y,n,n,y,?,y,n,n,y,y,n,y,n,?\\nrepublican,n,y,n,y,y,y,n,n,n,y,y,y,y,y,n,n\\nrepublican,n,y,n,y,y,y,n,n,n,y,y,y,y,y,n,y\\nrepublican,n,y,n,y,y,y,n,n,n,y,n,y,y,y,n,y\\nrepublican,n,y,n,y,y,y,n,n,n,y,n,y,y,y,n,y\\nrepublican,n,y,n,y,y,y,n,n,n,y,n,y,y,y,n,?\\ndemocrat,y,y,y,n,n,?,y,y,y,y,n,n,n,n,y,?\\nrepublican,n,y,n,y,y,y,n,n,n,n,n,y,y,y,n,n\\ndemocrat,y,y,y,n,n,n,y,y,y,n,n,n,n,n,n,?\\ndemocrat,y,y,y,n,n,n,y,y,y,n,y,n,n,n,n,y\\ndemocrat,y,y,y,n,n,n,y,y,y,n,y,?,n,n,n,y\\nrepublican,y,y,n,y,y,y,y,n,n,n,n,y,y,y,n,y\\nrepublican,n,y,n,y,y,y,y,n,n,n,y,y,y,y,n,y\\nrepublican,n,y,n,y,y,y,n,n,n,y,n,y,y,y,n,n\\ndemocrat,y,?,y,n,n,n,y,y,y,n,n,n,y,n,y,y\\ndemocrat,y,y,y,n,n,n,y,y,y,n,n,n,n,n,y,y\\ndemocrat,y,n,y,n,n,n,y,y,y,n,n,n,y,n,y,?\\nrepublican,y,y,y,y,n,n,y,y,y,y,y,n,n,y,n,y\\ndemocrat,y,y,y,n,n,n,y,y,y,n,y,n,n,n,y,?\\nrepublican,y,n,y,y,y,n,y,n,y,y,n,n,y,y,n,y\\ndemocrat,y,n,y,n,n,y,y,y,y,y,y,n,n,y,y,y\\ndemocrat,n,y,y,y,y,y,n,n,n,y,y,n,y,y,n,n\\ndemocrat,n,y,y,n,y,y,n,n,n,y,y,y,y,y,n,?\\ndemocrat,n,y,y,y,y,y,n,y,y,y,y,y,y,y,n,y\\ndemocrat,y,y,y,n,y,y,n,n,n,y,y,n,y,y,n,y\\nrepublican,n,n,n,y,y,n,n,n,n,y,n,y,y,y,n,n\\ndemocrat,y,n,y,n,n,y,y,y,y,y,n,y,n,y,n,?\\ndemocrat,y,n,y,n,n,n,y,y,?,y,y,y,n,y,n,y\\nrepublican,n,n,n,y,y,y,n,n,n,y,n,y,y,y,n,y\\nrepublican,n,n,n,y,y,y,n,n,n,n,n,y,y,y,n,n\\nrepublican,n,?,n,y,y,y,n,n,n,y,n,y,y,y,n,n\\ndemocrat,n,n,y,n,y,y,n,n,n,y,y,y,y,y,n,y\\nrepublican,n,n,n,y,y,y,n,n,n,y,n,y,y,y,n,n\\nrepublican,n,n,n,y,y,y,n,n,n,n,n,y,y,y,n,n\\ndemocrat,n,y,y,n,y,y,y,n,y,y,y,n,y,y,n,y\\nrepublican,n,n,n,y,y,y,n,n,n,y,n,?,y,y,n,?\\ndemocrat,y,n,y,n,n,n,y,y,y,y,n,n,n,n,y,y\\ndemocrat,y,n,y,n,n,n,y,y,y,y,y,n,n,n,y,y\\ndemocrat,y,y,y,n,n,n,y,y,n,y,y,n,n,?,y,y\\ndemocrat,y,n,y,n,n,n,y,n,y,y,y,n,n,n,y,y\\ndemocrat,y,n,y,n,y,y,n,n,n,n,n,n,n,n,n,y\\ndemocrat,y,n,y,n,y,y,n,?,?,n,y,?,?,?,y,y\\ndemocrat,n,n,?,n,y,y,n,n,n,n,y,y,y,y,n,y\\ndemocrat,y,n,n,n,y,y,y,n,n,y,y,n,n,y,n,y\\ndemocrat,y,y,y,n,n,y,y,y,y,y,n,n,n,n,n,y\\nrepublican,n,n,n,y,y,y,n,n,n,y,?,y,y,y,n,n\\ndemocrat,y,n,n,n,y,y,n,n,n,n,y,y,n,y,n,y\\ndemocrat,y,n,y,n,y,y,y,n,n,n,y,n,n,y,n,y\\ndemocrat,y,n,y,n,y,y,y,n,?,n,y,n,y,y,y,?\\ndemocrat,y,n,n,n,y,y,?,n,?,n,n,n,n,y,?,n\\ndemocrat,?,?,?,?,n,y,y,y,y,y,?,n,y,y,n,?\\ndemocrat,y,y,y,n,n,n,n,y,y,n,y,n,n,n,y,y\\nrepublican,n,y,n,y,y,y,n,n,n,n,n,y,y,y,n,y\\nrepublican,n,?,?,?,?,?,?,?,?,?,?,?,?,y,?,?\\ndemocrat,y,?,y,n,n,n,y,y,y,n,n,n,n,n,y,?\\ndemocrat,y,?,y,n,n,n,y,y,y,n,n,n,n,n,y,?\\ndemocrat,n,n,y,n,n,n,y,y,y,y,n,n,n,n,y,y\\nrepublican,n,?,n,y,y,y,n,n,n,y,n,y,y,y,n,y\\ndemocrat,n,?,y,n,n,y,y,y,n,y,n,n,n,n,y,?\\nrepublican,n,?,n,y,y,y,n,n,n,y,n,y,y,y,n,n\\ndemocrat,y,?,y,n,n,n,y,y,y,n,n,n,n,n,y,?\\ndemocrat,n,?,y,n,?,?,y,y,y,y,?,?,n,n,y,y\\ndemocrat,y,n,y,n,n,n,y,y,y,n,y,n,n,n,y,y\\nrepublican,y,y,y,y,y,n,y,n,n,n,n,y,y,y,n,y\\ndemocrat,n,y,y,n,n,n,n,y,y,y,y,n,n,n,y,y\\nrepublican,n,n,n,y,y,y,n,n,n,n,n,y,y,y,n,n\\nrepublican,n,?,?,y,y,y,n,n,n,y,n,y,y,y,?,y\\nrepublican,n,?,n,y,y,y,n,n,n,y,n,y,y,y,n,y\\nrepublican,n,n,n,y,y,y,n,n,n,y,n,y,n,y,n,y\\nrepublican,y,?,n,y,y,y,n,y,n,n,n,y,y,y,n,y\\ndemocrat,n,?,y,n,n,n,y,y,y,n,n,n,n,n,y,y\\nrepublican,n,?,n,y,y,y,n,n,n,y,n,y,y,y,n,y\\nrepublican,n,?,n,y,y,y,n,n,n,n,n,y,y,y,n,n\\ndemocrat,n,?,y,n,n,n,y,y,y,y,y,n,n,y,y,y\\ndemocrat,n,?,y,n,n,y,n,y,n,y,y,n,n,n,y,y\\ndemocrat,?,?,y,n,n,n,y,y,?,n,?,?,?,?,?,?\\ndemocrat,y,?,y,n,?,?,y,y,y,n,n,n,n,n,y,?\\ndemocrat,n,n,y,n,n,y,n,y,y,y,n,n,n,y,n,y\\nrepublican,n,n,n,y,y,y,n,n,n,y,n,y,y,y,n,?\\nrepublican,n,n,n,y,y,y,n,n,n,y,n,y,y,y,n,y\\nrepublican,n,n,n,y,y,y,n,n,n,n,n,y,y,y,n,?\\nrepublican,n,n,n,y,y,y,n,n,n,y,n,y,y,y,n,n\\nrepublican,n,y,n,y,y,y,n,n,n,y,y,y,y,n,n,y\\ndemocrat,n,?,y,n,n,y,y,y,y,y,n,n,n,y,y,y\\ndemocrat,n,n,y,n,n,y,y,y,y,y,n,n,n,y,n,y\\ndemocrat,y,n,y,n,n,y,y,y,y,n,n,n,n,n,y,y\\nrepublican,n,n,n,y,n,n,y,y,y,y,n,n,y,y,n,y\\nrepublican,n,n,n,y,y,y,y,y,y,y,n,y,y,y,?,y\\nrepublican,n,n,n,y,y,y,y,y,y,y,n,y,y,y,n,y\\ndemocrat,?,y,n,n,n,n,y,y,y,y,y,n,n,y,y,y\\ndemocrat,n,?,n,n,n,y,y,y,y,y,n,n,n,y,n,?\\ndemocrat,n,n,y,n,n,y,y,y,y,y,n,n,n,y,?,y\\nrepublican,n,y,n,y,y,y,n,n,n,n,n,y,y,y,n,y\\ndemocrat,n,n,n,n,n,n,y,y,y,y,n,y,y,y,y,y\\nrepublican,n,y,n,y,y,y,n,n,n,y,y,y,y,y,n,y\\ndemocrat,n,n,y,n,n,n,y,y,y,y,n,n,y,n,y,y\\nrepublican,y,y,n,y,y,y,n,n,n,y,n,y,y,y,n,y\\ndemocrat,y,y,?,y,y,y,n,n,y,n,y,?,y,y,n,n\\ndemocrat,n,y,y,n,n,y,n,y,y,y,y,n,y,n,y,y\\ndemocrat,n,n,y,n,n,y,y,y,y,y,y,n,y,y,n,y\\nrepublican,n,y,n,y,y,y,n,n,n,n,n,y,y,y,n,n\\nrepublican,y,y,n,y,y,y,n,?,n,n,y,y,y,y,n,n\\nrepublican,y,y,n,y,y,y,y,n,n,n,n,y,y,y,n,n\\ndemocrat,n,y,y,n,n,y,n,y,y,n,y,n,?,?,?,?\\nrepublican,n,y,n,y,y,y,n,n,n,y,n,y,y,y,n,n\\ndemocrat,n,y,y,n,?,y,y,y,y,y,y,n,n,?,n,?\\ndemocrat,n,y,n,n,y,y,n,n,n,n,n,y,y,y,y,y\\ndemocrat,n,n,n,n,y,y,y,n,n,n,n,y,y,y,n,y\\ndemocrat,n,y,y,n,y,y,y,n,n,n,y,y,y,y,n,y\\nrepublican,n,y,n,y,y,y,y,n,n,n,n,y,y,y,n,y\\ndemocrat,y,y,n,n,y,y,n,n,n,y,y,y,y,y,n,?\\ndemocrat,n,y,y,n,n,y,y,y,y,y,y,n,y,n,y,?\\nrepublican,y,n,y,y,y,y,y,y,n,y,n,y,n,y,y,y\\nrepublican,y,n,y,y,y,y,y,y,n,y,y,y,n,y,y,y\\ndemocrat,n,n,y,y,y,y,n,n,y,n,n,n,y,y,y,?\\ndemocrat,y,n,y,n,n,n,y,y,y,y,y,n,n,y,n,y\\ndemocrat,y,n,y,n,n,n,?,y,y,?,n,n,n,n,y,?\\nrepublican,n,?,n,y,y,y,n,n,n,y,n,y,y,y,n,y\\ndemocrat,n,y,y,n,n,n,y,y,y,y,n,n,?,n,y,y\\ndemocrat,n,n,n,n,y,y,n,n,n,y,y,y,y,y,n,y\\ndemocrat,y,?,y,n,n,n,y,y,y,n,n,n,n,n,y,?\\ndemocrat,n,y,y,n,n,n,y,y,y,y,n,n,n,n,y,y\\nrepublican,n,n,y,y,n,n,y,y,y,y,n,n,n,y,y,y\\ndemocrat,n,n,y,n,n,n,y,y,y,y,y,?,n,n,y,y\\ndemocrat,?,n,y,n,n,n,y,y,y,y,y,?,n,n,y,?\\ndemocrat,y,n,y,n,n,n,y,y,y,y,n,n,n,n,y,y\\ndemocrat,?,?,y,n,n,n,y,y,y,?,?,n,n,n,?,?\\ndemocrat,n,n,y,n,n,n,y,y,y,y,y,n,n,n,y,y\\ndemocrat,y,?,y,n,n,n,y,y,y,n,n,n,n,n,y,y\\ndemocrat,?,?,?,?,?,?,?,?,y,?,?,?,?,?,?,?\\ndemocrat,n,n,y,n,n,n,y,y,y,y,y,n,n,n,y,y\\ndemocrat,y,n,y,n,n,n,y,y,y,y,n,?,n,n,y,y\\ndemocrat,n,y,y,n,n,n,y,y,y,y,y,n,n,n,y,y\\ndemocrat,y,n,y,n,n,n,y,y,y,n,n,n,n,n,y,?\\nrepublican,y,?,n,y,y,y,y,y,n,n,n,y,?,y,?,?\\ndemocrat,y,n,y,n,n,n,y,y,y,n,n,n,n,n,y,y\\nrepublican,n,?,n,y,y,y,n,n,n,n,n,y,y,y,n,?\\nrepublican,n,y,n,y,y,y,n,?,n,y,n,y,y,y,n,?\\ndemocrat,n,n,n,n,n,y,y,y,y,n,y,n,n,y,y,y\\ndemocrat,n,n,y,n,n,n,y,y,y,n,n,n,n,n,y,y\\ndemocrat,n,n,y,n,n,y,y,?,y,y,y,n,n,n,y,y\\nrepublican,n,n,n,y,y,y,n,n,n,n,n,y,y,y,n,?\\ndemocrat,n,n,y,n,n,y,y,y,y,n,y,y,n,y,y,?\\nrepublican,n,?,y,y,y,y,n,n,n,y,n,n,n,y,n,y\\ndemocrat,n,n,y,n,n,n,y,y,y,y,y,n,?,n,y,?\\ndemocrat,y,y,n,n,n,n,y,y,?,n,y,n,n,n,y,?\\ndemocrat,n,n,y,n,n,n,y,y,y,n,n,n,n,y,y,y\\ndemocrat,y,y,y,n,n,n,y,y,y,n,n,n,n,n,y,y\\ndemocrat,y,n,y,n,n,y,y,y,y,y,y,n,n,n,y,y\\ndemocrat,y,n,y,n,n,n,y,y,y,y,n,n,n,n,y,y\\nrepublican,n,n,y,y,y,y,y,n,n,n,n,y,y,y,n,y\\ndemocrat,n,n,y,n,n,y,y,y,y,y,n,y,n,n,n,y\\nrepublican,n,n,n,y,y,y,n,n,n,y,n,y,n,y,n,y\\nrepublican,y,?,n,y,y,y,y,n,n,y,n,y,y,y,n,y\\ndemocrat,n,n,y,n,n,n,y,y,y,n,n,?,n,n,y,y\\ndemocrat,y,y,y,n,n,n,y,y,y,y,y,n,n,n,n,y\\ndemocrat,n,n,y,n,n,y,y,y,y,n,n,n,n,n,y,y\\nrepublican,n,y,n,y,y,y,n,n,n,y,n,y,y,y,n,y\\ndemocrat,n,n,y,n,n,n,y,y,y,n,y,n,n,n,y,y\\ndemocrat,n,y,y,n,n,y,n,y,y,n,y,n,y,n,y,y\\nrepublican,y,y,n,y,y,y,n,n,n,y,n,y,y,y,n,y\\ndemocrat,n,y,y,y,y,y,n,n,n,y,y,y,y,y,y,?\\ndemocrat,y,y,y,n,y,y,n,n,?,y,n,n,n,y,y,?\\nrepublican,n,y,n,y,y,y,n,n,n,y,n,y,y,y,n,n\\ndemocrat,y,?,y,n,n,n,y,y,y,n,?,n,n,n,y,?\\ndemocrat,n,y,y,n,n,n,n,y,y,n,y,n,n,y,y,y\\ndemocrat,n,n,y,n,n,n,y,y,y,n,n,n,n,n,y,?\\ndemocrat,n,y,y,n,y,y,n,n,n,n,y,n,n,n,y,?\\ndemocrat,y,n,y,n,n,n,y,y,y,n,y,n,n,n,y,?\\nrepublican,n,n,n,y,y,n,n,n,n,n,n,y,y,y,n,y\\nrepublican,n,y,n,y,y,y,n,n,n,y,n,?,y,y,n,n\\nrepublican,n,?,n,y,y,y,n,n,n,n,n,y,y,y,n,y\\ndemocrat,n,n,y,n,n,y,y,y,y,n,y,n,n,y,y,y\\ndemocrat,y,n,y,n,n,n,y,y,y,n,n,n,n,n,?,y\\nrepublican,n,y,n,y,y,y,n,n,n,n,n,y,y,?,n,y\\nrepublican,n,y,y,y,y,y,y,n,y,y,n,y,y,y,n,y\\nrepublican,n,y,n,y,y,y,n,n,n,n,n,y,y,y,n,y\\nrepublican,n,y,n,y,y,y,n,n,y,y,n,y,y,y,n,y\\ndemocrat,n,y,y,n,n,n,y,y,n,n,y,n,n,n,y,?\\nrepublican,n,y,n,y,y,y,n,n,n,y,n,y,y,y,n,y\\ndemocrat,n,n,y,n,n,y,y,y,y,y,n,y,n,y,y,?\\nrepublican,n,n,n,y,y,y,n,n,n,y,n,y,n,y,n,y\\ndemocrat,n,n,y,n,n,n,y,y,y,n,n,n,n,n,y,y\\ndemocrat,y,n,y,n,n,y,y,y,n,n,n,y,y,n,n,y\\ndemocrat,y,y,y,n,n,n,y,y,?,y,n,n,n,n,y,?\\nrepublican,n,n,n,y,y,y,y,n,n,y,n,n,n,y,y,y\\nrepublican,n,n,n,y,n,y,y,?,y,n,n,y,y,y,n,y\\ndemocrat,y,n,y,n,n,n,y,y,y,y,y,n,n,y,y,y\\nrepublican,n,n,n,n,y,y,y,n,n,n,n,?,n,y,y,y\\ndemocrat,n,y,y,n,n,n,y,y,?,y,n,n,y,n,y,y\\ndemocrat,y,n,y,n,n,n,n,y,y,y,n,n,n,n,y,y\\ndemocrat,y,n,y,n,n,n,y,y,y,y,y,n,n,n,y,y\\ndemocrat,n,n,y,n,y,n,y,y,y,n,n,n,n,y,?,y\\nrepublican,n,y,n,y,y,y,?,n,n,n,n,?,y,y,n,n\\nrepublican,?,?,?,?,?,?,?,?,?,?,?,?,?,?,?,?\\ndemocrat,y,n,y,n,n,n,y,y,?,n,y,n,n,n,y,y\\nrepublican,n,y,n,y,y,y,n,n,n,n,n,y,y,y,n,n\\nrepublican,n,y,n,y,y,y,n,n,n,n,n,y,y,y,n,n\\ndemocrat,y,y,y,n,n,y,y,y,y,n,n,n,n,n,y,y\\nrepublican,n,y,n,y,y,y,n,n,n,n,n,y,y,y,n,y\\ndemocrat,y,n,y,n,n,n,y,y,y,y,n,n,n,n,n,y\\ndemocrat,y,n,y,n,n,n,y,y,y,y,n,n,n,y,y,y\\nrepublican,n,n,n,y,y,n,n,n,n,n,n,y,n,y,n,n\\nrepublican,n,n,n,y,y,n,n,n,n,n,n,y,n,y,?,y\\ndemocrat,n,n,y,n,n,n,y,y,y,n,y,n,n,n,y,y\\ndemocrat,y,n,y,n,n,n,y,y,y,n,n,n,n,n,n,y\\ndemocrat,y,n,y,n,n,n,y,y,y,y,n,n,n,n,n,y\\ndemocrat,y,n,y,n,n,?,y,y,y,n,?,?,n,?,?,?\\ndemocrat,y,n,y,n,n,n,y,y,y,y,n,n,?,n,y,y\\ndemocrat,y,n,y,n,n,n,y,y,y,n,n,n,n,n,y,?\\ndemocrat,y,n,y,n,n,n,y,y,y,n,n,n,n,n,y,?\\ndemocrat,y,n,y,n,n,n,y,y,y,y,n,n,n,n,n,y\\nrepublican,n,n,n,y,y,y,n,n,n,y,n,y,n,y,n,y\\nrepublican,y,n,n,n,n,n,y,y,y,y,n,n,n,y,n,y\\ndemocrat,y,n,y,n,n,n,y,y,y,n,n,n,n,n,y,?\\ndemocrat,y,n,y,n,n,n,y,y,y,n,n,n,n,n,n,y\\ndemocrat,y,y,y,n,n,n,y,y,y,n,n,n,n,n,y,y\\ndemocrat,n,y,y,n,n,y,y,y,y,n,?,n,n,n,n,y\\ndemocrat,y,n,y,n,n,n,y,y,y,y,n,n,n,n,y,?\\nrepublican,n,n,n,y,y,n,y,y,n,y,n,y,y,y,?,y\\nrepublican,y,n,n,y,y,n,y,n,n,y,n,n,n,y,y,y\\ndemocrat,n,n,y,n,y,y,n,n,n,n,?,n,y,y,n,n\\nrepublican,n,n,n,y,y,y,n,n,n,n,n,y,y,y,y,n\\nrepublican,n,n,y,y,y,y,y,y,n,y,n,n,n,y,n,y\\nrepublican,n,n,n,y,y,y,n,n,n,n,n,y,y,y,n,y\\nrepublican,n,n,n,y,y,y,n,n,n,y,n,y,y,y,n,n\\ndemocrat,n,n,y,n,n,n,y,y,y,y,n,n,n,y,n,y\\nrepublican,y,n,y,y,y,y,y,y,n,n,n,n,n,y,n,?\\nrepublican,y,n,n,y,y,y,n,n,n,y,n,?,y,y,n,n\\nrepublican,n,n,n,y,y,y,n,n,n,n,n,y,y,y,n,y\\ndemocrat,n,n,y,n,n,y,y,y,y,y,y,n,n,n,?,y\\ndemocrat,n,n,y,n,n,y,y,y,y,y,y,n,n,n,y,y\\ndemocrat,n,n,y,n,n,y,?,y,?,y,y,y,n,y,y,?\\ndemocrat,y,y,y,?,n,y,y,y,y,n,y,n,y,n,?,y\\ndemocrat,y,y,y,n,y,y,n,y,n,y,y,n,y,y,y,y\\ndemocrat,y,y,y,n,y,y,n,y,n,y,y,n,y,y,n,?\\ndemocrat,y,n,y,n,?,y,?,y,y,y,n,n,y,y,n,y\\ndemocrat,y,n,y,n,n,y,y,y,y,y,n,?,n,y,n,y\\ndemocrat,y,n,y,n,n,y,y,y,n,y,y,n,y,y,y,y\\ndemocrat,y,y,y,n,n,y,y,y,y,y,y,n,y,y,y,y\\ndemocrat,n,y,y,n,n,y,y,y,n,y,y,n,y,y,n,?\\nrepublican,n,y,n,y,y,y,?,?,n,y,n,y,?,?,?,?\\nrepublican,n,n,y,y,y,y,n,n,n,y,n,y,y,y,y,y\\ndemocrat,y,y,y,n,n,y,y,y,y,y,n,n,?,n,y,?\\ndemocrat,n,y,n,n,n,n,y,y,y,y,y,n,n,n,y,y\\ndemocrat,n,y,y,n,n,y,y,y,y,y,n,n,y,y,y,y\\nrepublican,n,n,n,y,y,n,y,y,y,y,n,y,y,y,n,y\\ndemocrat,n,n,?,n,n,y,y,y,y,n,n,n,n,n,y,y\\nrepublican,n,n,n,y,y,y,y,n,n,y,n,y,y,y,n,y\\nrepublican,n,n,n,y,y,y,n,n,n,n,n,y,y,y,n,n\\nrepublican,n,y,n,y,y,y,n,n,n,y,n,y,y,y,n,?\\nrepublican,n,n,n,y,y,y,n,n,n,y,n,y,y,y,n,n\\nrepublican,n,n,n,y,y,y,n,n,n,n,n,y,y,y,n,n\\ndemocrat,y,n,y,n,n,y,y,y,y,n,n,n,n,y,n,?\\nrepublican,n,n,n,y,y,y,n,n,n,y,n,y,y,y,n,n\\ndemocrat,y,n,n,n,n,y,y,y,y,y,n,n,n,y,y,y\\nrepublican,n,n,n,y,y,y,n,n,n,y,n,y,y,y,y,n\\ndemocrat,n,n,y,n,n,y,y,y,y,y,n,n,y,n,n,y\\ndemocrat,y,y,y,n,n,n,y,y,y,y,n,n,n,n,y,y\\nrepublican,n,y,y,y,y,y,n,n,n,y,n,y,y,y,n,y\\nrepublican,n,y,n,y,y,y,y,y,n,n,y,y,y,y,y,y\\nrepublican,n,y,y,y,y,y,y,?,n,n,n,n,?,?,y,?\\ndemocrat,n,n,n,n,n,y,n,y,y,n,y,y,y,y,y,n\\ndemocrat,y,n,n,n,n,n,y,y,y,y,n,n,n,n,y,y\\ndemocrat,n,n,y,n,n,n,y,y,y,n,n,n,n,n,y,?\\ndemocrat,y,n,y,n,n,n,y,y,y,n,n,n,n,n,y,?\\ndemocrat,n,y,y,n,n,y,n,y,y,y,n,n,y,y,n,y\\ndemocrat,y,y,y,n,n,n,y,y,y,y,n,n,y,n,n,y\\ndemocrat,y,y,y,n,?,y,n,?,n,n,y,n,y,y,n,?\\ndemocrat,y,y,y,n,y,y,n,y,?,y,n,n,y,y,n,?\\nrepublican,n,y,n,y,y,y,n,n,n,n,y,y,y,y,n,n\\ndemocrat,n,y,n,n,y,y,n,n,?,n,n,y,y,y,n,y\\ndemocrat,y,y,n,y,n,n,y,y,y,n,y,n,n,y,n,y\\nrepublican,n,y,n,y,y,y,n,n,n,n,n,y,y,y,n,y\\ndemocrat,y,y,y,n,n,n,y,y,y,n,y,n,n,n,n,y\\ndemocrat,y,?,y,n,n,y,y,y,y,y,n,n,n,n,y,?\\nrepublican,n,y,n,y,y,y,n,n,n,y,n,y,y,y,n,n\\ndemocrat,y,?,y,n,n,n,y,y,y,n,n,n,n,n,y,?\\ndemocrat,y,n,y,n,n,n,y,y,y,n,y,n,n,n,y,?\\ndemocrat,n,n,y,n,n,n,y,y,y,n,n,n,n,n,y,y\\ndemocrat,n,y,y,n,n,y,y,y,?,n,y,y,n,n,y,y\\nrepublican,n,n,n,y,y,y,n,n,n,y,y,y,y,y,n,?\\ndemocrat,n,n,y,n,n,y,y,y,n,n,y,n,n,y,?,y\\ndemocrat,y,n,y,n,n,n,y,y,y,n,n,n,n,n,y,y\\ndemocrat,y,n,y,n,n,n,y,y,y,y,n,n,n,y,y,y\\nrepublican,y,n,n,y,y,y,n,n,n,n,y,y,y,y,n,n\\nrepublican,n,n,n,y,y,y,n,n,n,y,y,y,n,y,n,y\\ndemocrat,n,?,y,?,n,y,y,y,y,y,y,n,?,?,y,y\\ndemocrat,n,y,y,n,y,?,y,n,n,y,y,n,y,n,y,y\\nrepublican,n,n,n,y,y,n,y,n,y,y,n,n,n,y,n,y\\ndemocrat,n,n,y,n,n,n,y,y,y,y,y,n,n,n,y,y\\nrepublican,n,n,n,y,y,y,y,n,n,y,n,y,n,y,y,y\\nrepublican,n,n,n,y,y,y,n,n,n,y,n,y,y,y,n,y\\nrepublican,y,n,n,y,y,y,n,n,n,y,n,y,y,y,n,n\\ndemocrat,y,n,y,n,n,n,y,y,y,y,n,y,n,n,y,?\\nrepublican,n,y,y,y,y,y,y,y,y,n,n,y,y,y,n,y\\ndemocrat,n,y,n,n,n,y,y,n,y,n,y,n,n,n,y,y\\nrepublican,n,n,y,y,y,y,y,y,y,y,n,y,y,y,y,y\\ndemocrat,n,y,n,y,n,y,y,y,y,n,y,n,y,n,y,?\\nrepublican,n,n,y,y,y,y,y,n,n,y,y,y,y,y,n,y\\ndemocrat,n,y,y,n,n,y,y,y,y,y,n,?,n,n,y,y\\nrepublican,y,n,y,y,n,n,n,y,y,y,n,n,n,y,y,y\\nrepublican,n,n,n,y,y,y,n,n,n,n,n,y,y,y,n,n\\nrepublican,n,n,n,y,y,y,n,n,n,n,n,y,y,y,n,n\\ndemocrat,y,y,y,n,n,y,y,y,y,y,y,y,y,y,n,?\\nrepublican,n,n,n,y,y,y,n,n,n,y,?,y,y,y,n,y\\ndemocrat,y,n,y,n,n,y,y,y,y,y,n,n,y,n,n,y\\ndemocrat,y,n,y,n,y,y,y,n,y,y,n,n,y,y,n,?\\ndemocrat,y,y,y,n,n,y,y,y,y,y,y,y,y,n,n,y\\nrepublican,y,y,n,y,y,y,n,n,n,y,y,n,y,n,n,n\\nrepublican,y,y,n,y,y,y,n,n,n,n,y,n,y,y,n,y\\ndemocrat,n,y,n,n,y,y,n,n,n,y,y,n,y,y,n,n\\ndemocrat,y,n,y,n,n,n,y,y,n,y,y,n,n,n,n,?\\ndemocrat,y,y,y,n,y,y,y,y,n,y,y,n,n,n,y,?\\ndemocrat,n,y,y,n,n,y,y,y,n,y,n,n,n,n,y,y\\nrepublican,n,y,n,y,y,y,n,n,n,n,n,n,y,y,n,y\\ndemocrat,y,y,y,n,?,y,y,y,n,y,?,?,n,n,y,y\\ndemocrat,y,y,y,n,?,n,y,y,y,y,n,n,n,n,y,?\\ndemocrat,n,y,y,y,y,y,n,n,n,n,y,y,?,y,n,n\\ndemocrat,n,y,y,?,y,y,n,y,n,y,?,n,y,y,?,y\\nrepublican,n,y,n,y,y,y,n,n,n,n,n,y,y,y,n,y\\ndemocrat,n,y,n,y,y,y,n,n,n,n,y,y,n,y,n,n\\ndemocrat,y,?,y,n,n,n,y,y,y,n,y,n,n,n,y,y\\nrepublican,n,y,n,y,y,y,?,?,n,n,?,?,y,?,?,?\\nrepublican,n,n,n,y,y,y,n,n,n,n,n,y,y,y,n,y\\nrepublican,n,n,n,y,y,y,n,n,n,n,n,y,y,y,n,y\\ndemocrat,y,y,y,n,n,y,?,y,y,n,y,n,y,n,y,y\\ndemocrat,y,y,y,n,y,y,y,y,y,y,y,n,y,y,n,?\\ndemocrat,y,y,n,y,y,y,n,n,n,n,y,n,y,y,n,?\\ndemocrat,y,y,y,n,y,y,n,y,y,y,y,n,n,n,n,y\\ndemocrat,y,y,y,y,y,y,n,n,n,n,y,y,y,y,n,y\\ndemocrat,y,y,n,n,y,y,n,n,n,n,y,y,y,y,y,n\\ndemocrat,n,?,y,n,y,y,n,y,n,n,y,n,n,n,n,?\\ndemocrat,y,y,y,n,y,y,n,y,y,n,y,n,n,y,n,?\\ndemocrat,n,y,y,y,y,y,n,n,n,n,n,y,y,y,n,?\\ndemocrat,y,n,y,n,n,n,y,y,y,?,y,n,n,n,y,?\\ndemocrat,?,?,n,n,?,y,?,n,n,n,y,y,n,y,n,?\\ndemocrat,y,y,n,n,n,n,n,y,y,n,y,n,n,n,y,n\\nrepublican,y,y,n,y,y,y,n,n,n,n,y,y,y,y,n,y\\nrepublican,?,?,?,?,n,y,n,y,y,n,n,y,y,n,n,?\\ndemocrat,y,y,?,?,?,y,n,n,n,n,y,n,y,n,n,y\\ndemocrat,y,y,y,?,n,n,n,y,n,n,y,?,n,n,y,y\\ndemocrat,y,y,y,n,y,y,n,y,n,n,y,n,y,n,y,y\\ndemocrat,y,y,n,n,y,?,n,n,n,n,y,n,y,y,n,y\\ndemocrat,n,y,y,n,y,y,n,y,n,n,n,n,n,n,n,y\\nrepublican,n,y,n,y,?,y,n,n,n,y,n,y,y,y,n,n\\nrepublican,n,y,n,y,y,y,n,?,n,n,?,?,?,y,n,?\\nrepublican,n,y,n,y,y,y,n,n,n,y,y,y,y,y,n,n\\nrepublican,?,n,y,y,n,y,y,y,y,y,n,y,n,y,n,y\\nrepublican,n,y,n,y,y,y,n,n,n,y,n,y,?,y,n,n\\nrepublican,y,y,n,y,y,y,n,n,n,y,n,y,y,y,n,y\\nrepublican,n,n,n,y,y,y,n,n,n,n,n,y,y,y,n,y\\ndemocrat,y,n,y,n,y,y,n,n,y,y,n,n,y,y,n,y\\ndemocrat,n,n,n,y,y,y,n,n,n,n,y,y,y,y,n,n\\ndemocrat,y,n,y,n,n,y,y,y,y,n,n,y,?,y,y,y\\nrepublican,n,n,n,y,y,y,n,n,n,n,n,y,y,y,n,n\\nrepublican,n,n,n,y,y,y,n,n,n,n,y,y,y,y,n,y\\ndemocrat,y,n,y,n,n,y,y,y,y,y,y,n,n,n,n,y\\nrepublican,n,n,n,y,y,y,n,n,n,y,n,y,y,y,n,y\\nrepublican,y,y,y,y,y,y,y,y,n,y,?,?,?,y,n,y\\ndemocrat,y,y,y,n,n,n,y,y,y,n,n,n,n,n,n,y\\ndemocrat,n,y,y,n,n,y,y,y,?,y,n,n,n,n,n,y\\nrepublican,y,y,n,y,y,y,n,n,n,y,n,n,y,y,n,y\\ndemocrat,y,y,y,n,n,n,y,y,y,y,y,n,y,n,n,y\\ndemocrat,y,y,y,n,n,n,y,y,n,y,n,n,n,n,n,y\\ndemocrat,y,y,y,n,n,n,y,y,y,n,n,n,n,n,n,y\\nrepublican,y,y,y,y,y,y,y,y,n,y,n,n,y,y,n,y\\ndemocrat,n,y,y,n,y,y,y,y,n,n,y,n,y,n,y,y\\ndemocrat,n,n,y,n,n,y,y,y,y,n,y,n,n,n,y,y\\ndemocrat,n,y,y,n,n,y,y,y,y,n,y,n,n,y,y,y\\ndemocrat,n,y,y,n,n,?,y,y,y,y,y,n,?,y,y,y\\ndemocrat,n,n,y,n,n,n,y,y,n,y,y,n,n,n,y,?\\ndemocrat,y,n,y,n,n,n,y,y,y,y,n,n,n,n,y,y\\nrepublican,n,n,n,y,y,y,y,y,n,y,n,y,y,y,n,y\\ndemocrat,?,?,?,n,n,n,y,y,y,y,n,n,y,n,y,y\\ndemocrat,y,n,y,n,?,n,y,y,y,y,n,y,n,?,y,y\\nrepublican,n,n,y,y,y,y,n,n,y,y,n,y,y,y,n,y\\ndemocrat,n,n,y,n,n,n,y,y,y,y,n,n,n,n,n,y\\nrepublican,n,?,n,y,y,y,n,n,n,n,y,y,y,y,n,y\\nrepublican,n,n,n,y,y,y,?,?,?,?,n,y,y,y,n,y\\nrepublican,n,y,n,y,y,y,n,n,n,y,n,y,y,y,?,n\\n'}"
            ]
          },
          "metadata": {
            "tags": []
          },
          "execution_count": 2
        }
      ]
    },
    {
      "cell_type": "code",
      "metadata": {
        "id": "vGIDI53Uh3Ol",
        "colab_type": "code",
        "colab": {}
      },
      "source": [
        "# import scipy functions\n",
        "\n",
        "from scipy.stats import ttest_ind, ttest_ind_from_stats, ttest_rel"
      ],
      "execution_count": 0,
      "outputs": []
    },
    {
      "cell_type": "code",
      "metadata": {
        "id": "x4jASVTMUEsI",
        "colab_type": "code",
        "colab": {}
      },
      "source": [
        "# Import dataframe, assign column names, indicate NaN values\n",
        "\n",
        "import pandas as pd\n",
        "import numpy as np\n",
        "\n",
        "df = pd.read_csv('house-votes-84.data',header=None,names=['party', 'handicap-infants','water-proj-cost-share','adopt-budg-res',\n",
        "                                                          'phys-fee-freeze','el-sal-aid','relig-grp-in-school','anti-satellite-test-ban',\n",
        "                                                          'aid-to-nicarag-contras','mx-missile','immig','synfuels-corp-cutback',\n",
        "                                                          'edu-spending','superfund-right-to-sue','crime','duty-free-exp',\n",
        "                                                          'exp-admin-act-south-africa',],na_values=[\"?\"])"
      ],
      "execution_count": 0,
      "outputs": []
    },
    {
      "cell_type": "code",
      "metadata": {
        "id": "GFJfLDtIWWSb",
        "colab_type": "code",
        "colab": {}
      },
      "source": [
        "# replace n & y with 0 & 1, respectively\n",
        "\n",
        "df = df.replace(to_replace=['n', 'y'], value=[0,1])"
      ],
      "execution_count": 0,
      "outputs": []
    },
    {
      "cell_type": "code",
      "metadata": {
        "id": "VWrA965td5z-",
        "colab_type": "code",
        "colab": {}
      },
      "source": [
        "# Create republican & democrat dataframes\n",
        "\n",
        "rep = df[df['party'] == 'republican']\n",
        "dem = df[df['party'] == 'democrat']"
      ],
      "execution_count": 0,
      "outputs": []
    },
    {
      "cell_type": "code",
      "metadata": {
        "id": "r9HHb0NpaoyG",
        "colab_type": "code",
        "colab": {
          "base_uri": "https://localhost:8080/",
          "height": 264
        },
        "outputId": "cc6219d3-9512-445d-9534-aeccaf083093"
      },
      "source": [
        "df.head(5)"
      ],
      "execution_count": 40,
      "outputs": [
        {
          "output_type": "execute_result",
          "data": {
            "text/html": [
              "<div>\n",
              "<style scoped>\n",
              "    .dataframe tbody tr th:only-of-type {\n",
              "        vertical-align: middle;\n",
              "    }\n",
              "\n",
              "    .dataframe tbody tr th {\n",
              "        vertical-align: top;\n",
              "    }\n",
              "\n",
              "    .dataframe thead th {\n",
              "        text-align: right;\n",
              "    }\n",
              "</style>\n",
              "<table border=\"1\" class=\"dataframe\">\n",
              "  <thead>\n",
              "    <tr style=\"text-align: right;\">\n",
              "      <th></th>\n",
              "      <th>party</th>\n",
              "      <th>handicap-infants</th>\n",
              "      <th>water-proj-cost-share</th>\n",
              "      <th>adopt-budg-res</th>\n",
              "      <th>phys-fee-freeze</th>\n",
              "      <th>el-sal-aid</th>\n",
              "      <th>relig-grp-in-school</th>\n",
              "      <th>anti-satellite-test-ban</th>\n",
              "      <th>aid-to-nicarag-contras</th>\n",
              "      <th>mx-missile</th>\n",
              "      <th>immig</th>\n",
              "      <th>synfuels-corp-cutback</th>\n",
              "      <th>edu-spending</th>\n",
              "      <th>superfund-right-to-sue</th>\n",
              "      <th>crime</th>\n",
              "      <th>duty-free-exp</th>\n",
              "      <th>exp-admin-act-south-africa</th>\n",
              "    </tr>\n",
              "  </thead>\n",
              "  <tbody>\n",
              "    <tr>\n",
              "      <th>0</th>\n",
              "      <td>republican</td>\n",
              "      <td>0.0</td>\n",
              "      <td>1.0</td>\n",
              "      <td>0.0</td>\n",
              "      <td>1.0</td>\n",
              "      <td>1.0</td>\n",
              "      <td>1.0</td>\n",
              "      <td>0.0</td>\n",
              "      <td>0.0</td>\n",
              "      <td>0.0</td>\n",
              "      <td>1.0</td>\n",
              "      <td>NaN</td>\n",
              "      <td>1.0</td>\n",
              "      <td>1.0</td>\n",
              "      <td>1.0</td>\n",
              "      <td>0.0</td>\n",
              "      <td>1.0</td>\n",
              "    </tr>\n",
              "    <tr>\n",
              "      <th>1</th>\n",
              "      <td>republican</td>\n",
              "      <td>0.0</td>\n",
              "      <td>1.0</td>\n",
              "      <td>0.0</td>\n",
              "      <td>1.0</td>\n",
              "      <td>1.0</td>\n",
              "      <td>1.0</td>\n",
              "      <td>0.0</td>\n",
              "      <td>0.0</td>\n",
              "      <td>0.0</td>\n",
              "      <td>0.0</td>\n",
              "      <td>0.0</td>\n",
              "      <td>1.0</td>\n",
              "      <td>1.0</td>\n",
              "      <td>1.0</td>\n",
              "      <td>0.0</td>\n",
              "      <td>NaN</td>\n",
              "    </tr>\n",
              "    <tr>\n",
              "      <th>2</th>\n",
              "      <td>democrat</td>\n",
              "      <td>NaN</td>\n",
              "      <td>1.0</td>\n",
              "      <td>1.0</td>\n",
              "      <td>NaN</td>\n",
              "      <td>1.0</td>\n",
              "      <td>1.0</td>\n",
              "      <td>0.0</td>\n",
              "      <td>0.0</td>\n",
              "      <td>0.0</td>\n",
              "      <td>0.0</td>\n",
              "      <td>1.0</td>\n",
              "      <td>0.0</td>\n",
              "      <td>1.0</td>\n",
              "      <td>1.0</td>\n",
              "      <td>0.0</td>\n",
              "      <td>0.0</td>\n",
              "    </tr>\n",
              "    <tr>\n",
              "      <th>3</th>\n",
              "      <td>democrat</td>\n",
              "      <td>0.0</td>\n",
              "      <td>1.0</td>\n",
              "      <td>1.0</td>\n",
              "      <td>0.0</td>\n",
              "      <td>NaN</td>\n",
              "      <td>1.0</td>\n",
              "      <td>0.0</td>\n",
              "      <td>0.0</td>\n",
              "      <td>0.0</td>\n",
              "      <td>0.0</td>\n",
              "      <td>1.0</td>\n",
              "      <td>0.0</td>\n",
              "      <td>1.0</td>\n",
              "      <td>0.0</td>\n",
              "      <td>0.0</td>\n",
              "      <td>1.0</td>\n",
              "    </tr>\n",
              "    <tr>\n",
              "      <th>4</th>\n",
              "      <td>democrat</td>\n",
              "      <td>1.0</td>\n",
              "      <td>1.0</td>\n",
              "      <td>1.0</td>\n",
              "      <td>0.0</td>\n",
              "      <td>1.0</td>\n",
              "      <td>1.0</td>\n",
              "      <td>0.0</td>\n",
              "      <td>0.0</td>\n",
              "      <td>0.0</td>\n",
              "      <td>0.0</td>\n",
              "      <td>1.0</td>\n",
              "      <td>NaN</td>\n",
              "      <td>1.0</td>\n",
              "      <td>1.0</td>\n",
              "      <td>1.0</td>\n",
              "      <td>1.0</td>\n",
              "    </tr>\n",
              "  </tbody>\n",
              "</table>\n",
              "</div>"
            ],
            "text/plain": [
              "        party  handicap-infants  ...  duty-free-exp  exp-admin-act-south-africa\n",
              "0  republican               0.0  ...            0.0                         1.0\n",
              "1  republican               0.0  ...            0.0                         NaN\n",
              "2    democrat               NaN  ...            0.0                         0.0\n",
              "3    democrat               0.0  ...            0.0                         1.0\n",
              "4    democrat               1.0  ...            1.0                         1.0\n",
              "\n",
              "[5 rows x 17 columns]"
            ]
          },
          "metadata": {
            "tags": []
          },
          "execution_count": 40
        }
      ]
    },
    {
      "cell_type": "code",
      "metadata": {
        "id": "Evg8m_tVd8mt",
        "colab_type": "code",
        "colab": {}
      },
      "source": [
        ""
      ],
      "execution_count": 0,
      "outputs": []
    }
  ]
}