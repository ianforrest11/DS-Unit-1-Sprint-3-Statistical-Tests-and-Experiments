{
  "nbformat": 4,
  "nbformat_minor": 0,
  "metadata": {
    "colab": {
      "name": "LS_DS_143_Introduction_to_Bayesian_Inference.ipynb",
      "version": "0.3.2",
      "provenance": [],
      "include_colab_link": true
    },
    "kernelspec": {
      "name": "python3",
      "display_name": "Python 3"
    }
  },
  "cells": [
    {
      "cell_type": "markdown",
      "metadata": {
        "id": "view-in-github",
        "colab_type": "text"
      },
      "source": [
        "<a href=\"https://colab.research.google.com/github/ianforrest11/DS-Unit-1-Sprint-3-Statistical-Tests-and-Experiments/blob/master/module3-introduction-to-bayesian-inference/LS_DS_133_Introduction_to_Bayesian_Inference.ipynb\" target=\"_parent\"><img src=\"https://colab.research.google.com/assets/colab-badge.svg\" alt=\"Open In Colab\"/></a>"
      ]
    },
    {
      "cell_type": "markdown",
      "metadata": {
        "id": "P-DzzRk5bf0z",
        "colab_type": "text"
      },
      "source": [
        "## Assignment - Code it up!\n",
        "\n",
        "Most of the above was pure math - now write Python code to reproduce the results! This is purposefully open ended - you'll have to think about how you should represent probabilities and events. You can and should look things up, and as a stretch goal - refactor your code into helpful reusable functions!\n",
        "\n",
        "Specific goals/targets:\n",
        "\n",
        "1. Write a function `def prob_drunk_given_positive(prob_drunk_prior, prob_positive, prob_positive_drunk)` that reproduces the example from lecture, and use it to calculate and visualize a range of situations\n",
        "2. Explore `scipy.stats.bayes_mvs` - read its documentation, and experiment with it on data you've tested in other ways earlier this week\n",
        "3. Create a visualization comparing the results of a Bayesian approach to a traditional/frequentist approach\n",
        "4. In your own words, summarize the difference between Bayesian and Frequentist statistics\n",
        "\n",
        "If you're unsure where to start, check out [this blog post of Bayes theorem with Python](https://dataconomy.com/2015/02/introduction-to-bayes-theorem-with-python/) - you could and should create something similar!\n",
        "\n",
        "Stretch goals:\n",
        "\n",
        "- Apply a Bayesian technique to a problem you previously worked (in an assignment or project work) on from a frequentist (standard) perspective\n",
        "- Check out [PyMC3](https://docs.pymc.io/) (note this goes beyond hypothesis tests into modeling) - read the guides and work through some examples\n",
        "- Take PyMC3 further - see if you can build something with it!"
      ]
    },
    {
      "cell_type": "code",
      "metadata": {
        "id": "xpVhZyUnbf7o",
        "colab_type": "code",
        "colab": {}
      },
      "source": [
        "# TODO - code!"
      ],
      "execution_count": 0,
      "outputs": []
    },
    {
      "cell_type": "code",
      "metadata": {
        "id": "VzfHH68VwZSr",
        "colab_type": "code",
        "colab": {}
      },
      "source": [
        "# drunk probability function\n",
        "\n",
        "\n",
        "def prob_drunk_given_positive(prob_drunk_prior, prob_positive, prob_positive_drunk):\n",
        "  x = (prob_positive_drunk*prob_drunk_prior)/prob_positive\n",
        "  return x"
      ],
      "execution_count": 0,
      "outputs": []
    },
    {
      "cell_type": "code",
      "metadata": {
        "id": "PDE4lBaCxUuh",
        "colab_type": "code",
        "colab": {
          "base_uri": "https://localhost:8080/",
          "height": 34
        },
        "outputId": "ec4c4c99-ae3d-4da3-e7e3-ef01e409aa75"
      },
      "source": [
        "# check function using example from class\n",
        "\n",
        "print(\"probability driver is drunk given positive test:\", prob_drunk_given_positive(.001, 0.08, 1)*100, \"%\")"
      ],
      "execution_count": 41,
      "outputs": [
        {
          "output_type": "stream",
          "text": [
            "probability driver is drunk given positive test: 1.25 %\n"
          ],
          "name": "stdout"
        }
      ]
    },
    {
      "cell_type": "code",
      "metadata": {
        "id": "2fo3H9zQ0P59",
        "colab_type": "code",
        "colab": {
          "base_uri": "https://localhost:8080/",
          "height": 34
        },
        "outputId": "56df31f9-a1a6-401f-d10f-4620149d0677"
      },
      "source": [
        "# example given 1/100 drivers are DWI\n",
        "\n",
        "print(\"probability driver is drunk given positive test:\", prob_drunk_given_positive(.01, 0.08, 1)*100, \"%\")"
      ],
      "execution_count": 40,
      "outputs": [
        {
          "output_type": "stream",
          "text": [
            "probability driver is drunk given positive test: 12.5 %\n"
          ],
          "name": "stdout"
        }
      ]
    },
    {
      "cell_type": "code",
      "metadata": {
        "id": "b2ehLmJ82asR",
        "colab_type": "code",
        "colab": {
          "base_uri": "https://localhost:8080/",
          "height": 34
        },
        "outputId": "ea5c82be-59bd-4ce9-ec3b-d0bba6d8873c"
      },
      "source": [
        "# example given 1% false positives\n",
        "\n",
        "print(\"probability driver is drunk given positive test:\", prob_drunk_given_positive(.001, 0.01, 1)*100, \"%\")"
      ],
      "execution_count": 39,
      "outputs": [
        {
          "output_type": "stream",
          "text": [
            "probability driver is drunk given positive test: 10.0 %\n"
          ],
          "name": "stdout"
        }
      ]
    },
    {
      "cell_type": "code",
      "metadata": {
        "id": "UwQi2__x8o2q",
        "colab_type": "code",
        "colab": {
          "resources": {
            "http://localhost:8080/nbextensions/google.colab/files.js": {
              "data": "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",
              "ok": true,
              "headers": [
                [
                  "content-type",
                  "application/javascript"
                ]
              ],
              "status": 200,
              "status_text": ""
            }
          },
          "base_uri": "https://localhost:8080/",
          "height": 110
        },
        "outputId": "9b4876c2-07f5-4f49-ae10-016b36e8cf7c"
      },
      "source": [
        "# experiment on data from earlier this week\n",
        "\n",
        "from google.colab import files\n",
        "files.upload()"
      ],
      "execution_count": 44,
      "outputs": [
        {
          "output_type": "display_data",
          "data": {
            "text/html": [
              "\n",
              "     <input type=\"file\" id=\"files-d3d72a1c-1c56-4f39-b9a1-4f9aede3ed24\" name=\"files[]\" multiple disabled />\n",
              "     <output id=\"result-d3d72a1c-1c56-4f39-b9a1-4f9aede3ed24\">\n",
              "      Upload widget is only available when the cell has been executed in the\n",
              "      current browser session. Please rerun this cell to enable.\n",
              "      </output>\n",
              "      <script src=\"/nbextensions/google.colab/files.js\"></script> "
            ],
            "text/plain": [
              "<IPython.core.display.HTML object>"
            ]
          },
          "metadata": {
            "tags": []
          }
        },
        {
          "output_type": "stream",
          "text": [
            "Saving house-votes-84.data to house-votes-84.data\n"
          ],
          "name": "stdout"
        },
        {
          "output_type": "execute_result",
          "data": {
            "text/plain": [
              "{'house-votes-84.data': b'republican,n,y,n,y,y,y,n,n,n,y,?,y,y,y,n,y\\nrepublican,n,y,n,y,y,y,n,n,n,n,n,y,y,y,n,?\\ndemocrat,?,y,y,?,y,y,n,n,n,n,y,n,y,y,n,n\\ndemocrat,n,y,y,n,?,y,n,n,n,n,y,n,y,n,n,y\\ndemocrat,y,y,y,n,y,y,n,n,n,n,y,?,y,y,y,y\\ndemocrat,n,y,y,n,y,y,n,n,n,n,n,n,y,y,y,y\\ndemocrat,n,y,n,y,y,y,n,n,n,n,n,n,?,y,y,y\\nrepublican,n,y,n,y,y,y,n,n,n,n,n,n,y,y,?,y\\nrepublican,n,y,n,y,y,y,n,n,n,n,n,y,y,y,n,y\\ndemocrat,y,y,y,n,n,n,y,y,y,n,n,n,n,n,?,?\\nrepublican,n,y,n,y,y,n,n,n,n,n,?,?,y,y,n,n\\nrepublican,n,y,n,y,y,y,n,n,n,n,y,?,y,y,?,?\\ndemocrat,n,y,y,n,n,n,y,y,y,n,n,n,y,n,?,?\\ndemocrat,y,y,y,n,n,y,y,y,?,y,y,?,n,n,y,?\\nrepublican,n,y,n,y,y,y,n,n,n,n,n,y,?,?,n,?\\nrepublican,n,y,n,y,y,y,n,n,n,y,n,y,y,?,n,?\\ndemocrat,y,n,y,n,n,y,n,y,?,y,y,y,?,n,n,y\\ndemocrat,y,?,y,n,n,n,y,y,y,n,n,n,y,n,y,y\\nrepublican,n,y,n,y,y,y,n,n,n,n,n,?,y,y,n,n\\ndemocrat,y,y,y,n,n,n,y,y,y,n,y,n,n,n,y,y\\ndemocrat,y,y,y,n,n,?,y,y,n,n,y,n,n,n,y,y\\ndemocrat,y,y,y,n,n,n,y,y,y,n,n,n,?,?,y,y\\ndemocrat,y,?,y,n,n,n,y,y,y,n,n,?,n,n,y,y\\ndemocrat,y,y,y,n,n,n,y,y,y,n,n,n,n,n,y,y\\ndemocrat,y,n,y,n,n,n,y,y,y,n,n,n,n,n,y,?\\ndemocrat,y,n,y,n,n,n,y,y,y,y,n,n,n,n,y,y\\ndemocrat,y,n,y,n,n,n,y,y,y,n,y,n,n,n,y,y\\ndemocrat,y,y,y,n,n,n,y,y,y,n,y,n,n,n,y,y\\nrepublican,y,n,n,y,y,n,y,y,y,n,n,y,y,y,n,y\\ndemocrat,y,y,y,n,n,n,y,y,y,n,y,n,n,n,y,y\\nrepublican,n,y,n,y,y,y,n,n,n,n,n,y,y,y,n,n\\ndemocrat,y,y,y,n,n,n,y,y,y,n,y,n,n,n,y,?\\ndemocrat,y,y,y,n,n,n,y,y,y,y,n,n,y,n,y,y\\nrepublican,n,y,n,y,y,y,n,n,n,n,n,y,y,y,n,y\\ndemocrat,y,y,y,n,n,n,y,y,y,n,n,n,n,n,y,y\\nrepublican,n,y,n,y,y,y,n,n,n,n,n,y,y,y,n,n\\nrepublican,y,?,n,y,y,y,n,n,n,y,n,y,?,y,n,y\\nrepublican,y,y,n,y,y,y,n,n,n,n,n,n,y,y,n,y\\nrepublican,n,y,n,y,y,y,n,n,n,y,n,y,y,y,n,n\\ndemocrat,y,n,y,n,n,n,y,y,y,y,y,n,y,n,y,y\\ndemocrat,y,y,y,n,n,n,y,y,y,n,?,n,n,n,n,?\\ndemocrat,y,y,y,n,n,n,y,y,y,n,n,n,n,n,y,?\\ndemocrat,y,n,y,n,n,n,y,y,y,n,n,n,n,n,n,y\\ndemocrat,y,n,y,n,n,n,y,y,y,n,n,n,n,n,y,y\\ndemocrat,y,y,y,n,n,n,y,y,y,n,y,n,n,n,n,?\\ndemocrat,y,y,y,n,n,n,y,y,?,n,y,n,n,n,y,?\\ndemocrat,y,y,y,n,n,n,y,y,y,n,n,n,n,n,n,y\\ndemocrat,y,n,y,n,n,n,y,y,?,n,n,n,n,n,n,?\\ndemocrat,y,y,y,n,n,n,y,y,n,n,n,n,n,y,n,y\\nrepublican,n,?,n,y,y,y,n,n,n,n,n,y,y,y,n,n\\ndemocrat,y,y,y,n,n,n,y,y,y,n,y,n,n,n,y,y\\nrepublican,n,y,n,y,y,y,n,?,n,n,n,y,y,y,n,y\\ndemocrat,y,y,y,n,n,n,y,y,y,n,n,n,n,n,?,?\\nrepublican,y,y,n,y,y,y,n,n,n,y,n,y,y,y,n,n\\ndemocrat,y,y,y,n,n,y,?,y,n,n,y,y,n,y,n,?\\nrepublican,n,y,n,y,y,y,n,n,n,y,y,y,y,y,n,n\\nrepublican,n,y,n,y,y,y,n,n,n,y,y,y,y,y,n,y\\nrepublican,n,y,n,y,y,y,n,n,n,y,n,y,y,y,n,y\\nrepublican,n,y,n,y,y,y,n,n,n,y,n,y,y,y,n,y\\nrepublican,n,y,n,y,y,y,n,n,n,y,n,y,y,y,n,?\\ndemocrat,y,y,y,n,n,?,y,y,y,y,n,n,n,n,y,?\\nrepublican,n,y,n,y,y,y,n,n,n,n,n,y,y,y,n,n\\ndemocrat,y,y,y,n,n,n,y,y,y,n,n,n,n,n,n,?\\ndemocrat,y,y,y,n,n,n,y,y,y,n,y,n,n,n,n,y\\ndemocrat,y,y,y,n,n,n,y,y,y,n,y,?,n,n,n,y\\nrepublican,y,y,n,y,y,y,y,n,n,n,n,y,y,y,n,y\\nrepublican,n,y,n,y,y,y,y,n,n,n,y,y,y,y,n,y\\nrepublican,n,y,n,y,y,y,n,n,n,y,n,y,y,y,n,n\\ndemocrat,y,?,y,n,n,n,y,y,y,n,n,n,y,n,y,y\\ndemocrat,y,y,y,n,n,n,y,y,y,n,n,n,n,n,y,y\\ndemocrat,y,n,y,n,n,n,y,y,y,n,n,n,y,n,y,?\\nrepublican,y,y,y,y,n,n,y,y,y,y,y,n,n,y,n,y\\ndemocrat,y,y,y,n,n,n,y,y,y,n,y,n,n,n,y,?\\nrepublican,y,n,y,y,y,n,y,n,y,y,n,n,y,y,n,y\\ndemocrat,y,n,y,n,n,y,y,y,y,y,y,n,n,y,y,y\\ndemocrat,n,y,y,y,y,y,n,n,n,y,y,n,y,y,n,n\\ndemocrat,n,y,y,n,y,y,n,n,n,y,y,y,y,y,n,?\\ndemocrat,n,y,y,y,y,y,n,y,y,y,y,y,y,y,n,y\\ndemocrat,y,y,y,n,y,y,n,n,n,y,y,n,y,y,n,y\\nrepublican,n,n,n,y,y,n,n,n,n,y,n,y,y,y,n,n\\ndemocrat,y,n,y,n,n,y,y,y,y,y,n,y,n,y,n,?\\ndemocrat,y,n,y,n,n,n,y,y,?,y,y,y,n,y,n,y\\nrepublican,n,n,n,y,y,y,n,n,n,y,n,y,y,y,n,y\\nrepublican,n,n,n,y,y,y,n,n,n,n,n,y,y,y,n,n\\nrepublican,n,?,n,y,y,y,n,n,n,y,n,y,y,y,n,n\\ndemocrat,n,n,y,n,y,y,n,n,n,y,y,y,y,y,n,y\\nrepublican,n,n,n,y,y,y,n,n,n,y,n,y,y,y,n,n\\nrepublican,n,n,n,y,y,y,n,n,n,n,n,y,y,y,n,n\\ndemocrat,n,y,y,n,y,y,y,n,y,y,y,n,y,y,n,y\\nrepublican,n,n,n,y,y,y,n,n,n,y,n,?,y,y,n,?\\ndemocrat,y,n,y,n,n,n,y,y,y,y,n,n,n,n,y,y\\ndemocrat,y,n,y,n,n,n,y,y,y,y,y,n,n,n,y,y\\ndemocrat,y,y,y,n,n,n,y,y,n,y,y,n,n,?,y,y\\ndemocrat,y,n,y,n,n,n,y,n,y,y,y,n,n,n,y,y\\ndemocrat,y,n,y,n,y,y,n,n,n,n,n,n,n,n,n,y\\ndemocrat,y,n,y,n,y,y,n,?,?,n,y,?,?,?,y,y\\ndemocrat,n,n,?,n,y,y,n,n,n,n,y,y,y,y,n,y\\ndemocrat,y,n,n,n,y,y,y,n,n,y,y,n,n,y,n,y\\ndemocrat,y,y,y,n,n,y,y,y,y,y,n,n,n,n,n,y\\nrepublican,n,n,n,y,y,y,n,n,n,y,?,y,y,y,n,n\\ndemocrat,y,n,n,n,y,y,n,n,n,n,y,y,n,y,n,y\\ndemocrat,y,n,y,n,y,y,y,n,n,n,y,n,n,y,n,y\\ndemocrat,y,n,y,n,y,y,y,n,?,n,y,n,y,y,y,?\\ndemocrat,y,n,n,n,y,y,?,n,?,n,n,n,n,y,?,n\\ndemocrat,?,?,?,?,n,y,y,y,y,y,?,n,y,y,n,?\\ndemocrat,y,y,y,n,n,n,n,y,y,n,y,n,n,n,y,y\\nrepublican,n,y,n,y,y,y,n,n,n,n,n,y,y,y,n,y\\nrepublican,n,?,?,?,?,?,?,?,?,?,?,?,?,y,?,?\\ndemocrat,y,?,y,n,n,n,y,y,y,n,n,n,n,n,y,?\\ndemocrat,y,?,y,n,n,n,y,y,y,n,n,n,n,n,y,?\\ndemocrat,n,n,y,n,n,n,y,y,y,y,n,n,n,n,y,y\\nrepublican,n,?,n,y,y,y,n,n,n,y,n,y,y,y,n,y\\ndemocrat,n,?,y,n,n,y,y,y,n,y,n,n,n,n,y,?\\nrepublican,n,?,n,y,y,y,n,n,n,y,n,y,y,y,n,n\\ndemocrat,y,?,y,n,n,n,y,y,y,n,n,n,n,n,y,?\\ndemocrat,n,?,y,n,?,?,y,y,y,y,?,?,n,n,y,y\\ndemocrat,y,n,y,n,n,n,y,y,y,n,y,n,n,n,y,y\\nrepublican,y,y,y,y,y,n,y,n,n,n,n,y,y,y,n,y\\ndemocrat,n,y,y,n,n,n,n,y,y,y,y,n,n,n,y,y\\nrepublican,n,n,n,y,y,y,n,n,n,n,n,y,y,y,n,n\\nrepublican,n,?,?,y,y,y,n,n,n,y,n,y,y,y,?,y\\nrepublican,n,?,n,y,y,y,n,n,n,y,n,y,y,y,n,y\\nrepublican,n,n,n,y,y,y,n,n,n,y,n,y,n,y,n,y\\nrepublican,y,?,n,y,y,y,n,y,n,n,n,y,y,y,n,y\\ndemocrat,n,?,y,n,n,n,y,y,y,n,n,n,n,n,y,y\\nrepublican,n,?,n,y,y,y,n,n,n,y,n,y,y,y,n,y\\nrepublican,n,?,n,y,y,y,n,n,n,n,n,y,y,y,n,n\\ndemocrat,n,?,y,n,n,n,y,y,y,y,y,n,n,y,y,y\\ndemocrat,n,?,y,n,n,y,n,y,n,y,y,n,n,n,y,y\\ndemocrat,?,?,y,n,n,n,y,y,?,n,?,?,?,?,?,?\\ndemocrat,y,?,y,n,?,?,y,y,y,n,n,n,n,n,y,?\\ndemocrat,n,n,y,n,n,y,n,y,y,y,n,n,n,y,n,y\\nrepublican,n,n,n,y,y,y,n,n,n,y,n,y,y,y,n,?\\nrepublican,n,n,n,y,y,y,n,n,n,y,n,y,y,y,n,y\\nrepublican,n,n,n,y,y,y,n,n,n,n,n,y,y,y,n,?\\nrepublican,n,n,n,y,y,y,n,n,n,y,n,y,y,y,n,n\\nrepublican,n,y,n,y,y,y,n,n,n,y,y,y,y,n,n,y\\ndemocrat,n,?,y,n,n,y,y,y,y,y,n,n,n,y,y,y\\ndemocrat,n,n,y,n,n,y,y,y,y,y,n,n,n,y,n,y\\ndemocrat,y,n,y,n,n,y,y,y,y,n,n,n,n,n,y,y\\nrepublican,n,n,n,y,n,n,y,y,y,y,n,n,y,y,n,y\\nrepublican,n,n,n,y,y,y,y,y,y,y,n,y,y,y,?,y\\nrepublican,n,n,n,y,y,y,y,y,y,y,n,y,y,y,n,y\\ndemocrat,?,y,n,n,n,n,y,y,y,y,y,n,n,y,y,y\\ndemocrat,n,?,n,n,n,y,y,y,y,y,n,n,n,y,n,?\\ndemocrat,n,n,y,n,n,y,y,y,y,y,n,n,n,y,?,y\\nrepublican,n,y,n,y,y,y,n,n,n,n,n,y,y,y,n,y\\ndemocrat,n,n,n,n,n,n,y,y,y,y,n,y,y,y,y,y\\nrepublican,n,y,n,y,y,y,n,n,n,y,y,y,y,y,n,y\\ndemocrat,n,n,y,n,n,n,y,y,y,y,n,n,y,n,y,y\\nrepublican,y,y,n,y,y,y,n,n,n,y,n,y,y,y,n,y\\ndemocrat,y,y,?,y,y,y,n,n,y,n,y,?,y,y,n,n\\ndemocrat,n,y,y,n,n,y,n,y,y,y,y,n,y,n,y,y\\ndemocrat,n,n,y,n,n,y,y,y,y,y,y,n,y,y,n,y\\nrepublican,n,y,n,y,y,y,n,n,n,n,n,y,y,y,n,n\\nrepublican,y,y,n,y,y,y,n,?,n,n,y,y,y,y,n,n\\nrepublican,y,y,n,y,y,y,y,n,n,n,n,y,y,y,n,n\\ndemocrat,n,y,y,n,n,y,n,y,y,n,y,n,?,?,?,?\\nrepublican,n,y,n,y,y,y,n,n,n,y,n,y,y,y,n,n\\ndemocrat,n,y,y,n,?,y,y,y,y,y,y,n,n,?,n,?\\ndemocrat,n,y,n,n,y,y,n,n,n,n,n,y,y,y,y,y\\ndemocrat,n,n,n,n,y,y,y,n,n,n,n,y,y,y,n,y\\ndemocrat,n,y,y,n,y,y,y,n,n,n,y,y,y,y,n,y\\nrepublican,n,y,n,y,y,y,y,n,n,n,n,y,y,y,n,y\\ndemocrat,y,y,n,n,y,y,n,n,n,y,y,y,y,y,n,?\\ndemocrat,n,y,y,n,n,y,y,y,y,y,y,n,y,n,y,?\\nrepublican,y,n,y,y,y,y,y,y,n,y,n,y,n,y,y,y\\nrepublican,y,n,y,y,y,y,y,y,n,y,y,y,n,y,y,y\\ndemocrat,n,n,y,y,y,y,n,n,y,n,n,n,y,y,y,?\\ndemocrat,y,n,y,n,n,n,y,y,y,y,y,n,n,y,n,y\\ndemocrat,y,n,y,n,n,n,?,y,y,?,n,n,n,n,y,?\\nrepublican,n,?,n,y,y,y,n,n,n,y,n,y,y,y,n,y\\ndemocrat,n,y,y,n,n,n,y,y,y,y,n,n,?,n,y,y\\ndemocrat,n,n,n,n,y,y,n,n,n,y,y,y,y,y,n,y\\ndemocrat,y,?,y,n,n,n,y,y,y,n,n,n,n,n,y,?\\ndemocrat,n,y,y,n,n,n,y,y,y,y,n,n,n,n,y,y\\nrepublican,n,n,y,y,n,n,y,y,y,y,n,n,n,y,y,y\\ndemocrat,n,n,y,n,n,n,y,y,y,y,y,?,n,n,y,y\\ndemocrat,?,n,y,n,n,n,y,y,y,y,y,?,n,n,y,?\\ndemocrat,y,n,y,n,n,n,y,y,y,y,n,n,n,n,y,y\\ndemocrat,?,?,y,n,n,n,y,y,y,?,?,n,n,n,?,?\\ndemocrat,n,n,y,n,n,n,y,y,y,y,y,n,n,n,y,y\\ndemocrat,y,?,y,n,n,n,y,y,y,n,n,n,n,n,y,y\\ndemocrat,?,?,?,?,?,?,?,?,y,?,?,?,?,?,?,?\\ndemocrat,n,n,y,n,n,n,y,y,y,y,y,n,n,n,y,y\\ndemocrat,y,n,y,n,n,n,y,y,y,y,n,?,n,n,y,y\\ndemocrat,n,y,y,n,n,n,y,y,y,y,y,n,n,n,y,y\\ndemocrat,y,n,y,n,n,n,y,y,y,n,n,n,n,n,y,?\\nrepublican,y,?,n,y,y,y,y,y,n,n,n,y,?,y,?,?\\ndemocrat,y,n,y,n,n,n,y,y,y,n,n,n,n,n,y,y\\nrepublican,n,?,n,y,y,y,n,n,n,n,n,y,y,y,n,?\\nrepublican,n,y,n,y,y,y,n,?,n,y,n,y,y,y,n,?\\ndemocrat,n,n,n,n,n,y,y,y,y,n,y,n,n,y,y,y\\ndemocrat,n,n,y,n,n,n,y,y,y,n,n,n,n,n,y,y\\ndemocrat,n,n,y,n,n,y,y,?,y,y,y,n,n,n,y,y\\nrepublican,n,n,n,y,y,y,n,n,n,n,n,y,y,y,n,?\\ndemocrat,n,n,y,n,n,y,y,y,y,n,y,y,n,y,y,?\\nrepublican,n,?,y,y,y,y,n,n,n,y,n,n,n,y,n,y\\ndemocrat,n,n,y,n,n,n,y,y,y,y,y,n,?,n,y,?\\ndemocrat,y,y,n,n,n,n,y,y,?,n,y,n,n,n,y,?\\ndemocrat,n,n,y,n,n,n,y,y,y,n,n,n,n,y,y,y\\ndemocrat,y,y,y,n,n,n,y,y,y,n,n,n,n,n,y,y\\ndemocrat,y,n,y,n,n,y,y,y,y,y,y,n,n,n,y,y\\ndemocrat,y,n,y,n,n,n,y,y,y,y,n,n,n,n,y,y\\nrepublican,n,n,y,y,y,y,y,n,n,n,n,y,y,y,n,y\\ndemocrat,n,n,y,n,n,y,y,y,y,y,n,y,n,n,n,y\\nrepublican,n,n,n,y,y,y,n,n,n,y,n,y,n,y,n,y\\nrepublican,y,?,n,y,y,y,y,n,n,y,n,y,y,y,n,y\\ndemocrat,n,n,y,n,n,n,y,y,y,n,n,?,n,n,y,y\\ndemocrat,y,y,y,n,n,n,y,y,y,y,y,n,n,n,n,y\\ndemocrat,n,n,y,n,n,y,y,y,y,n,n,n,n,n,y,y\\nrepublican,n,y,n,y,y,y,n,n,n,y,n,y,y,y,n,y\\ndemocrat,n,n,y,n,n,n,y,y,y,n,y,n,n,n,y,y\\ndemocrat,n,y,y,n,n,y,n,y,y,n,y,n,y,n,y,y\\nrepublican,y,y,n,y,y,y,n,n,n,y,n,y,y,y,n,y\\ndemocrat,n,y,y,y,y,y,n,n,n,y,y,y,y,y,y,?\\ndemocrat,y,y,y,n,y,y,n,n,?,y,n,n,n,y,y,?\\nrepublican,n,y,n,y,y,y,n,n,n,y,n,y,y,y,n,n\\ndemocrat,y,?,y,n,n,n,y,y,y,n,?,n,n,n,y,?\\ndemocrat,n,y,y,n,n,n,n,y,y,n,y,n,n,y,y,y\\ndemocrat,n,n,y,n,n,n,y,y,y,n,n,n,n,n,y,?\\ndemocrat,n,y,y,n,y,y,n,n,n,n,y,n,n,n,y,?\\ndemocrat,y,n,y,n,n,n,y,y,y,n,y,n,n,n,y,?\\nrepublican,n,n,n,y,y,n,n,n,n,n,n,y,y,y,n,y\\nrepublican,n,y,n,y,y,y,n,n,n,y,n,?,y,y,n,n\\nrepublican,n,?,n,y,y,y,n,n,n,n,n,y,y,y,n,y\\ndemocrat,n,n,y,n,n,y,y,y,y,n,y,n,n,y,y,y\\ndemocrat,y,n,y,n,n,n,y,y,y,n,n,n,n,n,?,y\\nrepublican,n,y,n,y,y,y,n,n,n,n,n,y,y,?,n,y\\nrepublican,n,y,y,y,y,y,y,n,y,y,n,y,y,y,n,y\\nrepublican,n,y,n,y,y,y,n,n,n,n,n,y,y,y,n,y\\nrepublican,n,y,n,y,y,y,n,n,y,y,n,y,y,y,n,y\\ndemocrat,n,y,y,n,n,n,y,y,n,n,y,n,n,n,y,?\\nrepublican,n,y,n,y,y,y,n,n,n,y,n,y,y,y,n,y\\ndemocrat,n,n,y,n,n,y,y,y,y,y,n,y,n,y,y,?\\nrepublican,n,n,n,y,y,y,n,n,n,y,n,y,n,y,n,y\\ndemocrat,n,n,y,n,n,n,y,y,y,n,n,n,n,n,y,y\\ndemocrat,y,n,y,n,n,y,y,y,n,n,n,y,y,n,n,y\\ndemocrat,y,y,y,n,n,n,y,y,?,y,n,n,n,n,y,?\\nrepublican,n,n,n,y,y,y,y,n,n,y,n,n,n,y,y,y\\nrepublican,n,n,n,y,n,y,y,?,y,n,n,y,y,y,n,y\\ndemocrat,y,n,y,n,n,n,y,y,y,y,y,n,n,y,y,y\\nrepublican,n,n,n,n,y,y,y,n,n,n,n,?,n,y,y,y\\ndemocrat,n,y,y,n,n,n,y,y,?,y,n,n,y,n,y,y\\ndemocrat,y,n,y,n,n,n,n,y,y,y,n,n,n,n,y,y\\ndemocrat,y,n,y,n,n,n,y,y,y,y,y,n,n,n,y,y\\ndemocrat,n,n,y,n,y,n,y,y,y,n,n,n,n,y,?,y\\nrepublican,n,y,n,y,y,y,?,n,n,n,n,?,y,y,n,n\\nrepublican,?,?,?,?,?,?,?,?,?,?,?,?,?,?,?,?\\ndemocrat,y,n,y,n,n,n,y,y,?,n,y,n,n,n,y,y\\nrepublican,n,y,n,y,y,y,n,n,n,n,n,y,y,y,n,n\\nrepublican,n,y,n,y,y,y,n,n,n,n,n,y,y,y,n,n\\ndemocrat,y,y,y,n,n,y,y,y,y,n,n,n,n,n,y,y\\nrepublican,n,y,n,y,y,y,n,n,n,n,n,y,y,y,n,y\\ndemocrat,y,n,y,n,n,n,y,y,y,y,n,n,n,n,n,y\\ndemocrat,y,n,y,n,n,n,y,y,y,y,n,n,n,y,y,y\\nrepublican,n,n,n,y,y,n,n,n,n,n,n,y,n,y,n,n\\nrepublican,n,n,n,y,y,n,n,n,n,n,n,y,n,y,?,y\\ndemocrat,n,n,y,n,n,n,y,y,y,n,y,n,n,n,y,y\\ndemocrat,y,n,y,n,n,n,y,y,y,n,n,n,n,n,n,y\\ndemocrat,y,n,y,n,n,n,y,y,y,y,n,n,n,n,n,y\\ndemocrat,y,n,y,n,n,?,y,y,y,n,?,?,n,?,?,?\\ndemocrat,y,n,y,n,n,n,y,y,y,y,n,n,?,n,y,y\\ndemocrat,y,n,y,n,n,n,y,y,y,n,n,n,n,n,y,?\\ndemocrat,y,n,y,n,n,n,y,y,y,n,n,n,n,n,y,?\\ndemocrat,y,n,y,n,n,n,y,y,y,y,n,n,n,n,n,y\\nrepublican,n,n,n,y,y,y,n,n,n,y,n,y,n,y,n,y\\nrepublican,y,n,n,n,n,n,y,y,y,y,n,n,n,y,n,y\\ndemocrat,y,n,y,n,n,n,y,y,y,n,n,n,n,n,y,?\\ndemocrat,y,n,y,n,n,n,y,y,y,n,n,n,n,n,n,y\\ndemocrat,y,y,y,n,n,n,y,y,y,n,n,n,n,n,y,y\\ndemocrat,n,y,y,n,n,y,y,y,y,n,?,n,n,n,n,y\\ndemocrat,y,n,y,n,n,n,y,y,y,y,n,n,n,n,y,?\\nrepublican,n,n,n,y,y,n,y,y,n,y,n,y,y,y,?,y\\nrepublican,y,n,n,y,y,n,y,n,n,y,n,n,n,y,y,y\\ndemocrat,n,n,y,n,y,y,n,n,n,n,?,n,y,y,n,n\\nrepublican,n,n,n,y,y,y,n,n,n,n,n,y,y,y,y,n\\nrepublican,n,n,y,y,y,y,y,y,n,y,n,n,n,y,n,y\\nrepublican,n,n,n,y,y,y,n,n,n,n,n,y,y,y,n,y\\nrepublican,n,n,n,y,y,y,n,n,n,y,n,y,y,y,n,n\\ndemocrat,n,n,y,n,n,n,y,y,y,y,n,n,n,y,n,y\\nrepublican,y,n,y,y,y,y,y,y,n,n,n,n,n,y,n,?\\nrepublican,y,n,n,y,y,y,n,n,n,y,n,?,y,y,n,n\\nrepublican,n,n,n,y,y,y,n,n,n,n,n,y,y,y,n,y\\ndemocrat,n,n,y,n,n,y,y,y,y,y,y,n,n,n,?,y\\ndemocrat,n,n,y,n,n,y,y,y,y,y,y,n,n,n,y,y\\ndemocrat,n,n,y,n,n,y,?,y,?,y,y,y,n,y,y,?\\ndemocrat,y,y,y,?,n,y,y,y,y,n,y,n,y,n,?,y\\ndemocrat,y,y,y,n,y,y,n,y,n,y,y,n,y,y,y,y\\ndemocrat,y,y,y,n,y,y,n,y,n,y,y,n,y,y,n,?\\ndemocrat,y,n,y,n,?,y,?,y,y,y,n,n,y,y,n,y\\ndemocrat,y,n,y,n,n,y,y,y,y,y,n,?,n,y,n,y\\ndemocrat,y,n,y,n,n,y,y,y,n,y,y,n,y,y,y,y\\ndemocrat,y,y,y,n,n,y,y,y,y,y,y,n,y,y,y,y\\ndemocrat,n,y,y,n,n,y,y,y,n,y,y,n,y,y,n,?\\nrepublican,n,y,n,y,y,y,?,?,n,y,n,y,?,?,?,?\\nrepublican,n,n,y,y,y,y,n,n,n,y,n,y,y,y,y,y\\ndemocrat,y,y,y,n,n,y,y,y,y,y,n,n,?,n,y,?\\ndemocrat,n,y,n,n,n,n,y,y,y,y,y,n,n,n,y,y\\ndemocrat,n,y,y,n,n,y,y,y,y,y,n,n,y,y,y,y\\nrepublican,n,n,n,y,y,n,y,y,y,y,n,y,y,y,n,y\\ndemocrat,n,n,?,n,n,y,y,y,y,n,n,n,n,n,y,y\\nrepublican,n,n,n,y,y,y,y,n,n,y,n,y,y,y,n,y\\nrepublican,n,n,n,y,y,y,n,n,n,n,n,y,y,y,n,n\\nrepublican,n,y,n,y,y,y,n,n,n,y,n,y,y,y,n,?\\nrepublican,n,n,n,y,y,y,n,n,n,y,n,y,y,y,n,n\\nrepublican,n,n,n,y,y,y,n,n,n,n,n,y,y,y,n,n\\ndemocrat,y,n,y,n,n,y,y,y,y,n,n,n,n,y,n,?\\nrepublican,n,n,n,y,y,y,n,n,n,y,n,y,y,y,n,n\\ndemocrat,y,n,n,n,n,y,y,y,y,y,n,n,n,y,y,y\\nrepublican,n,n,n,y,y,y,n,n,n,y,n,y,y,y,y,n\\ndemocrat,n,n,y,n,n,y,y,y,y,y,n,n,y,n,n,y\\ndemocrat,y,y,y,n,n,n,y,y,y,y,n,n,n,n,y,y\\nrepublican,n,y,y,y,y,y,n,n,n,y,n,y,y,y,n,y\\nrepublican,n,y,n,y,y,y,y,y,n,n,y,y,y,y,y,y\\nrepublican,n,y,y,y,y,y,y,?,n,n,n,n,?,?,y,?\\ndemocrat,n,n,n,n,n,y,n,y,y,n,y,y,y,y,y,n\\ndemocrat,y,n,n,n,n,n,y,y,y,y,n,n,n,n,y,y\\ndemocrat,n,n,y,n,n,n,y,y,y,n,n,n,n,n,y,?\\ndemocrat,y,n,y,n,n,n,y,y,y,n,n,n,n,n,y,?\\ndemocrat,n,y,y,n,n,y,n,y,y,y,n,n,y,y,n,y\\ndemocrat,y,y,y,n,n,n,y,y,y,y,n,n,y,n,n,y\\ndemocrat,y,y,y,n,?,y,n,?,n,n,y,n,y,y,n,?\\ndemocrat,y,y,y,n,y,y,n,y,?,y,n,n,y,y,n,?\\nrepublican,n,y,n,y,y,y,n,n,n,n,y,y,y,y,n,n\\ndemocrat,n,y,n,n,y,y,n,n,?,n,n,y,y,y,n,y\\ndemocrat,y,y,n,y,n,n,y,y,y,n,y,n,n,y,n,y\\nrepublican,n,y,n,y,y,y,n,n,n,n,n,y,y,y,n,y\\ndemocrat,y,y,y,n,n,n,y,y,y,n,y,n,n,n,n,y\\ndemocrat,y,?,y,n,n,y,y,y,y,y,n,n,n,n,y,?\\nrepublican,n,y,n,y,y,y,n,n,n,y,n,y,y,y,n,n\\ndemocrat,y,?,y,n,n,n,y,y,y,n,n,n,n,n,y,?\\ndemocrat,y,n,y,n,n,n,y,y,y,n,y,n,n,n,y,?\\ndemocrat,n,n,y,n,n,n,y,y,y,n,n,n,n,n,y,y\\ndemocrat,n,y,y,n,n,y,y,y,?,n,y,y,n,n,y,y\\nrepublican,n,n,n,y,y,y,n,n,n,y,y,y,y,y,n,?\\ndemocrat,n,n,y,n,n,y,y,y,n,n,y,n,n,y,?,y\\ndemocrat,y,n,y,n,n,n,y,y,y,n,n,n,n,n,y,y\\ndemocrat,y,n,y,n,n,n,y,y,y,y,n,n,n,y,y,y\\nrepublican,y,n,n,y,y,y,n,n,n,n,y,y,y,y,n,n\\nrepublican,n,n,n,y,y,y,n,n,n,y,y,y,n,y,n,y\\ndemocrat,n,?,y,?,n,y,y,y,y,y,y,n,?,?,y,y\\ndemocrat,n,y,y,n,y,?,y,n,n,y,y,n,y,n,y,y\\nrepublican,n,n,n,y,y,n,y,n,y,y,n,n,n,y,n,y\\ndemocrat,n,n,y,n,n,n,y,y,y,y,y,n,n,n,y,y\\nrepublican,n,n,n,y,y,y,y,n,n,y,n,y,n,y,y,y\\nrepublican,n,n,n,y,y,y,n,n,n,y,n,y,y,y,n,y\\nrepublican,y,n,n,y,y,y,n,n,n,y,n,y,y,y,n,n\\ndemocrat,y,n,y,n,n,n,y,y,y,y,n,y,n,n,y,?\\nrepublican,n,y,y,y,y,y,y,y,y,n,n,y,y,y,n,y\\ndemocrat,n,y,n,n,n,y,y,n,y,n,y,n,n,n,y,y\\nrepublican,n,n,y,y,y,y,y,y,y,y,n,y,y,y,y,y\\ndemocrat,n,y,n,y,n,y,y,y,y,n,y,n,y,n,y,?\\nrepublican,n,n,y,y,y,y,y,n,n,y,y,y,y,y,n,y\\ndemocrat,n,y,y,n,n,y,y,y,y,y,n,?,n,n,y,y\\nrepublican,y,n,y,y,n,n,n,y,y,y,n,n,n,y,y,y\\nrepublican,n,n,n,y,y,y,n,n,n,n,n,y,y,y,n,n\\nrepublican,n,n,n,y,y,y,n,n,n,n,n,y,y,y,n,n\\ndemocrat,y,y,y,n,n,y,y,y,y,y,y,y,y,y,n,?\\nrepublican,n,n,n,y,y,y,n,n,n,y,?,y,y,y,n,y\\ndemocrat,y,n,y,n,n,y,y,y,y,y,n,n,y,n,n,y\\ndemocrat,y,n,y,n,y,y,y,n,y,y,n,n,y,y,n,?\\ndemocrat,y,y,y,n,n,y,y,y,y,y,y,y,y,n,n,y\\nrepublican,y,y,n,y,y,y,n,n,n,y,y,n,y,n,n,n\\nrepublican,y,y,n,y,y,y,n,n,n,n,y,n,y,y,n,y\\ndemocrat,n,y,n,n,y,y,n,n,n,y,y,n,y,y,n,n\\ndemocrat,y,n,y,n,n,n,y,y,n,y,y,n,n,n,n,?\\ndemocrat,y,y,y,n,y,y,y,y,n,y,y,n,n,n,y,?\\ndemocrat,n,y,y,n,n,y,y,y,n,y,n,n,n,n,y,y\\nrepublican,n,y,n,y,y,y,n,n,n,n,n,n,y,y,n,y\\ndemocrat,y,y,y,n,?,y,y,y,n,y,?,?,n,n,y,y\\ndemocrat,y,y,y,n,?,n,y,y,y,y,n,n,n,n,y,?\\ndemocrat,n,y,y,y,y,y,n,n,n,n,y,y,?,y,n,n\\ndemocrat,n,y,y,?,y,y,n,y,n,y,?,n,y,y,?,y\\nrepublican,n,y,n,y,y,y,n,n,n,n,n,y,y,y,n,y\\ndemocrat,n,y,n,y,y,y,n,n,n,n,y,y,n,y,n,n\\ndemocrat,y,?,y,n,n,n,y,y,y,n,y,n,n,n,y,y\\nrepublican,n,y,n,y,y,y,?,?,n,n,?,?,y,?,?,?\\nrepublican,n,n,n,y,y,y,n,n,n,n,n,y,y,y,n,y\\nrepublican,n,n,n,y,y,y,n,n,n,n,n,y,y,y,n,y\\ndemocrat,y,y,y,n,n,y,?,y,y,n,y,n,y,n,y,y\\ndemocrat,y,y,y,n,y,y,y,y,y,y,y,n,y,y,n,?\\ndemocrat,y,y,n,y,y,y,n,n,n,n,y,n,y,y,n,?\\ndemocrat,y,y,y,n,y,y,n,y,y,y,y,n,n,n,n,y\\ndemocrat,y,y,y,y,y,y,n,n,n,n,y,y,y,y,n,y\\ndemocrat,y,y,n,n,y,y,n,n,n,n,y,y,y,y,y,n\\ndemocrat,n,?,y,n,y,y,n,y,n,n,y,n,n,n,n,?\\ndemocrat,y,y,y,n,y,y,n,y,y,n,y,n,n,y,n,?\\ndemocrat,n,y,y,y,y,y,n,n,n,n,n,y,y,y,n,?\\ndemocrat,y,n,y,n,n,n,y,y,y,?,y,n,n,n,y,?\\ndemocrat,?,?,n,n,?,y,?,n,n,n,y,y,n,y,n,?\\ndemocrat,y,y,n,n,n,n,n,y,y,n,y,n,n,n,y,n\\nrepublican,y,y,n,y,y,y,n,n,n,n,y,y,y,y,n,y\\nrepublican,?,?,?,?,n,y,n,y,y,n,n,y,y,n,n,?\\ndemocrat,y,y,?,?,?,y,n,n,n,n,y,n,y,n,n,y\\ndemocrat,y,y,y,?,n,n,n,y,n,n,y,?,n,n,y,y\\ndemocrat,y,y,y,n,y,y,n,y,n,n,y,n,y,n,y,y\\ndemocrat,y,y,n,n,y,?,n,n,n,n,y,n,y,y,n,y\\ndemocrat,n,y,y,n,y,y,n,y,n,n,n,n,n,n,n,y\\nrepublican,n,y,n,y,?,y,n,n,n,y,n,y,y,y,n,n\\nrepublican,n,y,n,y,y,y,n,?,n,n,?,?,?,y,n,?\\nrepublican,n,y,n,y,y,y,n,n,n,y,y,y,y,y,n,n\\nrepublican,?,n,y,y,n,y,y,y,y,y,n,y,n,y,n,y\\nrepublican,n,y,n,y,y,y,n,n,n,y,n,y,?,y,n,n\\nrepublican,y,y,n,y,y,y,n,n,n,y,n,y,y,y,n,y\\nrepublican,n,n,n,y,y,y,n,n,n,n,n,y,y,y,n,y\\ndemocrat,y,n,y,n,y,y,n,n,y,y,n,n,y,y,n,y\\ndemocrat,n,n,n,y,y,y,n,n,n,n,y,y,y,y,n,n\\ndemocrat,y,n,y,n,n,y,y,y,y,n,n,y,?,y,y,y\\nrepublican,n,n,n,y,y,y,n,n,n,n,n,y,y,y,n,n\\nrepublican,n,n,n,y,y,y,n,n,n,n,y,y,y,y,n,y\\ndemocrat,y,n,y,n,n,y,y,y,y,y,y,n,n,n,n,y\\nrepublican,n,n,n,y,y,y,n,n,n,y,n,y,y,y,n,y\\nrepublican,y,y,y,y,y,y,y,y,n,y,?,?,?,y,n,y\\ndemocrat,y,y,y,n,n,n,y,y,y,n,n,n,n,n,n,y\\ndemocrat,n,y,y,n,n,y,y,y,?,y,n,n,n,n,n,y\\nrepublican,y,y,n,y,y,y,n,n,n,y,n,n,y,y,n,y\\ndemocrat,y,y,y,n,n,n,y,y,y,y,y,n,y,n,n,y\\ndemocrat,y,y,y,n,n,n,y,y,n,y,n,n,n,n,n,y\\ndemocrat,y,y,y,n,n,n,y,y,y,n,n,n,n,n,n,y\\nrepublican,y,y,y,y,y,y,y,y,n,y,n,n,y,y,n,y\\ndemocrat,n,y,y,n,y,y,y,y,n,n,y,n,y,n,y,y\\ndemocrat,n,n,y,n,n,y,y,y,y,n,y,n,n,n,y,y\\ndemocrat,n,y,y,n,n,y,y,y,y,n,y,n,n,y,y,y\\ndemocrat,n,y,y,n,n,?,y,y,y,y,y,n,?,y,y,y\\ndemocrat,n,n,y,n,n,n,y,y,n,y,y,n,n,n,y,?\\ndemocrat,y,n,y,n,n,n,y,y,y,y,n,n,n,n,y,y\\nrepublican,n,n,n,y,y,y,y,y,n,y,n,y,y,y,n,y\\ndemocrat,?,?,?,n,n,n,y,y,y,y,n,n,y,n,y,y\\ndemocrat,y,n,y,n,?,n,y,y,y,y,n,y,n,?,y,y\\nrepublican,n,n,y,y,y,y,n,n,y,y,n,y,y,y,n,y\\ndemocrat,n,n,y,n,n,n,y,y,y,y,n,n,n,n,n,y\\nrepublican,n,?,n,y,y,y,n,n,n,n,y,y,y,y,n,y\\nrepublican,n,n,n,y,y,y,?,?,?,?,n,y,y,y,n,y\\nrepublican,n,y,n,y,y,y,n,n,n,y,n,y,y,y,?,n\\n'}"
            ]
          },
          "metadata": {
            "tags": []
          },
          "execution_count": 44
        }
      ]
    },
    {
      "cell_type": "code",
      "metadata": {
        "id": "TH-HLjUQ9Jvz",
        "colab_type": "code",
        "colab": {}
      },
      "source": [
        "# experiment on data from earlier this week\n",
        "\n",
        "\n",
        "import pandas as pd\n",
        "import numpy as np\n",
        "import matplotlib.pyplot as plt\n",
        "import seaborn as sns\n",
        "from scipy.stats import ttest_ind, ttest_ind_from_stats, ttest_rel, t, ttest_1samp\n",
        "from scipy import stats\n",
        "\n",
        "df = pd.read_csv('house-votes-84.data',header=None,names=['party', 'handicap-infants','water-proj-cost-share','adopt-budg-res',\n",
        "                                                          'phys-fee-freeze','el-sal-aid','relig-grp-in-school','anti-satellite-test-ban',\n",
        "                                                          'aid-to-nicarag-contras','mx-missile','immig','synfuels-corp-cutback',\n",
        "                                                          'edu-spending','superfund-right-to-sue','crime','duty-free-exp',\n",
        "                                                          'exp-admin-act-south-africa',],na_values=[\"?\"])\n",
        "\n",
        "df = df.replace(to_replace=['n', 'y'], value=[0,1])\n",
        "\n",
        "rep = df[df['party'] == 'republican']\n",
        "dem = df[df['party'] == 'democrat']\n",
        "\n",
        "# drop NaN values from adopt-budget-res-column\n",
        "df = df[np.isfinite(df['adopt-budg-res'])]"
      ],
      "execution_count": 0,
      "outputs": []
    },
    {
      "cell_type": "code",
      "metadata": {
        "id": "CRwGgkov9g1p",
        "colab_type": "code",
        "colab": {
          "base_uri": "https://localhost:8080/",
          "height": 70
        },
        "outputId": "c217f688-c151-4581-f395-c21ce9ab8fe6"
      },
      "source": [
        "# run scipy.stats.bayes_mvs on NaN-less adopt-budget-res column of 1984 congressional voting dataset\n",
        "\n",
        "mean, var, std = stats.bayes_mvs(df['adopt-budg-res'])\n",
        "print(mean, '\\n',var, '\\n',std)\n"
      ],
      "execution_count": 55,
      "outputs": [
        {
          "output_type": "stream",
          "text": [
            "Mean(statistic=0.5966981132075472, minmax=(0.5573791816376577, 0.6360170447774367)) \n",
            " Variance(statistic=0.2423643167660109, minmax=(0.2161985849641155, 0.2711389399516659)) \n",
            " Std_dev(statistic=0.4920128497210816, minmax=(0.4649715958680869, 0.5207100344257501))\n"
          ],
          "name": "stdout"
        }
      ]
    },
    {
      "cell_type": "markdown",
      "metadata": {
        "id": "1qdi3OArBgMk",
        "colab_type": "text"
      },
      "source": [
        "Frequentist statistics do not consider past practical data when making assumptions, whereas Bayesian statistics do.  If Let's say a frequentist and a bayesian each own farms, and lose their dog.  When going to look for his/her dog, the frequentist will divide their property up into equal sections and search.  But when going to look for his/her dog, the bayesian will divide up their property and search, starting in locations the dog has been known to run off to before."
      ]
    },
    {
      "cell_type": "markdown",
      "metadata": {
        "id": "uWgWjp3PQ3Sq",
        "colab_type": "text"
      },
      "source": [
        "## Resources"
      ]
    },
    {
      "cell_type": "markdown",
      "metadata": {
        "id": "QRgHqmYIQ9qn",
        "colab_type": "text"
      },
      "source": [
        "- [Worked example of Bayes rule calculation](https://en.wikipedia.org/wiki/Bayes'_theorem#Examples) (helpful as it fully breaks out the denominator)\n",
        "- [Source code for mvsdist in scipy](https://github.com/scipy/scipy/blob/90534919e139d2a81c24bf08341734ff41a3db12/scipy/stats/morestats.py#L139)"
      ]
    }
  ]
}